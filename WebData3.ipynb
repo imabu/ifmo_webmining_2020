{
  "nbformat": 4,
  "nbformat_minor": 0,
  "metadata": {
    "colab": {
      "name": "Untitled0.ipynb",
      "provenance": [],
      "authorship_tag": "ABX9TyOp80R3tB7kdCl9nfcpNHZS",
      "include_colab_link": true
    },
    "kernelspec": {
      "name": "python3",
      "display_name": "Python 3"
    }
  },
  "cells": [
    {
      "cell_type": "markdown",
      "metadata": {
        "id": "view-in-github",
        "colab_type": "text"
      },
      "source": [
        "<a href=\"https://colab.research.google.com/github/imabu/ifmo_webmining_2020/blob/master/WebData3.ipynb\" target=\"_parent\"><img src=\"https://colab.research.google.com/assets/colab-badge.svg\" alt=\"Open In Colab\"/></a>"
      ]
    },
    {
      "cell_type": "markdown",
      "metadata": {
        "id": "eNnj3IBSaWmz",
        "colab_type": "text"
      },
      "source": [
        "3.2 Стандартные методы и функции для строк\n",
        "\n",
        "---\n",
        "\n"
      ]
    },
    {
      "cell_type": "markdown",
      "metadata": {
        "id": "a_OZP9E8aVRl",
        "colab_type": "text"
      },
      "source": [
        "Вашей программе на вход подаются три строки s, a, b, состоящие из строчных латинских букв. За одну операцию вы можете заменить все вхождения строки a в строку s на строку b. Необходимо узнать, после какого минимального количества операций в строке s не останется вхождений строки a. Если операций потребуется более 1000, выведите Impossible.\n"
      ]
    },
    {
      "cell_type": "code",
      "metadata": {
        "id": "6VJG50eZbGLs",
        "colab_type": "code",
        "outputId": "64110365-7c58-41c6-f252-ce648a51e89c",
        "colab": {
          "base_uri": "https://localhost:8080/",
          "height": 87
        }
      },
      "source": [
        "s = input()\n",
        "a = input()\n",
        "b = input()\n",
        "\n",
        "if (a in b) and (a in s):\n",
        "    print('Impossible')\n",
        "\n",
        "else:    \n",
        "    cnt = 0\n",
        "    prev = s\n",
        "    s = s.replace(a, b)\n",
        "    while s != prev and cnt <= 1000:\n",
        "        cnt += 1\n",
        "        prev = s\n",
        "        s = s.replace(a, b)  \n",
        "\n",
        "    print(cnt)"
      ],
      "execution_count": 0,
      "outputs": [
        {
          "output_type": "stream",
          "text": [
            "ababa\n",
            "a\n",
            "b\n",
            "1\n"
          ],
          "name": "stdout"
        }
      ]
    },
    {
      "cell_type": "markdown",
      "metadata": {
        "id": "vH3iwL0Bc_QH",
        "colab_type": "text"
      },
      "source": [
        "Вашей программе на вход подаются две строки s и t, состоящие из строчных латинских букв.\n",
        "Выведите одно число – количество вхождений строки t в строку s."
      ]
    },
    {
      "cell_type": "code",
      "metadata": {
        "id": "ivLx46XudGRK",
        "colab_type": "code",
        "outputId": "a5a288aa-d460-45f8-e618-d5a56d4ff611",
        "colab": {
          "base_uri": "https://localhost:8080/",
          "height": 70
        }
      },
      "source": [
        "s = input()\n",
        "t = input()\n",
        "\n",
        "cnt = 0\n",
        "for ind_start in range(len(s) - len(t) + 1):\n",
        "    cnt += int(s.startswith(t, ind_start))\n",
        "    \n",
        "print(cnt)"
      ],
      "execution_count": 0,
      "outputs": [
        {
          "output_type": "stream",
          "text": [
            "abababa\n",
            "aba\n",
            "3\n"
          ],
          "name": "stdout"
        }
      ]
    },
    {
      "cell_type": "markdown",
      "metadata": {
        "id": "h0Cj-P02iO51",
        "colab_type": "text"
      },
      "source": [
        "3.4 Обзорно об интернете: http-запросы, html-страницы и requests\n",
        "\n",
        "---"
      ]
    },
    {
      "cell_type": "markdown",
      "metadata": {
        "id": "pdrTy_ZAGa7r",
        "colab_type": "text"
      },
      "source": [
        "Вашей программе на вход подаются две строки, содержащие url двух документов A и B.\n",
        "Выведите Yes, если из A в B можно перейти за два перехода, иначе выведите No."
      ]
    },
    {
      "cell_type": "code",
      "metadata": {
        "id": "yze_ow-xiODp",
        "colab_type": "code",
        "colab": {}
      },
      "source": [
        "url_A = 'https://stepic.org/media/attachments/lesson/24472/sample0.html'\n",
        "url_B = 'https://stepic.org/media/attachments/lesson/24472/sample1.html'"
      ],
      "execution_count": 0,
      "outputs": []
    },
    {
      "cell_type": "code",
      "metadata": {
        "id": "KfG_Jx8ZiOal",
        "colab_type": "code",
        "outputId": "04c67175-7687-4afa-df8d-b4d1236bd943",
        "colab": {
          "base_uri": "https://localhost:8080/",
          "height": 34
        }
      },
      "source": [
        "from urllib.request import urlopen\n",
        "from bs4 import BeautifulSoup\n",
        "\n",
        "\n",
        "def get_refs(webpage):\n",
        "  resp = urlopen(webpage) \n",
        "  html = resp.read().decode('utf8')\n",
        "  soup = BeautifulSoup(html, 'html.parser')\n",
        "  return [a.get('href') for a in soup.find_all('a')]\n",
        "\n",
        "def find_ref_on_webpage(webpage, ref):   \n",
        "  return ref in get_refs(webpage)\n",
        "\n",
        "answer = 'No'\n",
        "\n",
        "step_1_urls = get_refs(url_A)\n",
        "if not url_B in step_1_urls:\n",
        "  for url in step_1_urls:\n",
        "    if find_ref_on_webpage(url, url_B):\n",
        "      answer = 'Yes'\n",
        "      break\n",
        "  \n",
        "print(answer)\n"
      ],
      "execution_count": 0,
      "outputs": [
        {
          "output_type": "stream",
          "text": [
            "No\n"
          ],
          "name": "stdout"
        }
      ]
    },
    {
      "cell_type": "markdown",
      "metadata": {
        "id": "1Sw3qNqxC0VA",
        "colab_type": "text"
      },
      "source": [
        "Вашей программе на вход подается ссылка на HTML файл.\n",
        "Вам необходимо скачать этот файл, затем найти в нем все ссылки вида <a ... href=\"...\" ... > и вывести список сайтов, на которые есть ссылка."
      ]
    },
    {
      "cell_type": "code",
      "metadata": {
        "id": "7fGo3KA_C2Vi",
        "colab_type": "code",
        "outputId": "ea05b294-66cc-4072-dc7c-325da42356ad",
        "colab": {
          "base_uri": "https://localhost:8080/",
          "height": 1000
        }
      },
      "source": [
        "import re\n",
        "from bs4 import BeautifulSoup\n",
        "from urllib.request import urlopen\n",
        "\n",
        "webpage = 'http://pastebin.com/raw/7543p0ns'\n",
        "\n",
        "resp = urlopen(webpage) \n",
        "html = resp.read().decode('utf8')\n",
        "soup = BeautifulSoup(html, 'html.parser')\n",
        "result = set()\n",
        "for a in soup.find_all('a'):\n",
        "  ref = a.get('href')\n",
        "  if ref and not re.match('^\\.{0,2}\\/.*', ref):\n",
        "    result.add(re.findall('^(?:(?:https?|ftp):\\/\\/)?([^\\/\\?\\:\\#]+\\.[^\\/\\?\\:\\.\\#]+)', ref)[0])\n",
        "\n",
        "for el in result:\n",
        "  print(el)\n",
        "\n"
      ],
      "execution_count": 1,
      "outputs": [
        {
          "output_type": "stream",
          "text": [
            "www.seminar.rbc.ru\n",
            "www.quote.ru\n",
            "turbo.ru\n",
            "www.m-2.ru\n",
            "www.5ballov.ru\n",
            "tv.rbc.ru\n",
            "www.pochta.ru\n",
            "www.nashidengi.ru\n",
            "blogi.rbc.ru\n",
            "portfolio.rbc.ru\n",
            "www.cnews.ru\n",
            "ug.rbc.ru\n",
            "www.salon.ru\n",
            "gift.cnews.ru\n",
            "ta.rbc.ru\n",
            "quote.ru\n",
            "www.turist.ru\n",
            "realty.rbc.ru\n",
            "www.armd.ru\n",
            "top100.rambler.ru\n",
            "www.autonews.ru\n",
            "www.refunder.ru\n",
            "www.rbctv.ru\n",
            "adworker.ru\n",
            "www.liveinternet.ru\n",
            "magazine.rbc.ru\n",
            "credit.rbc.ru\n",
            "spb.rbc.ru\n",
            "www.biztorg.ru\n",
            "static.feed.rbc.ru\n",
            "www.utro.ru\n",
            "data.rbc.ru\n",
            "memori.ru\n",
            "www.quotetotal.ru\n",
            "events.cnews.ru\n",
            "dict.rbc.ru\n",
            "otc-pif.rbc.ru\n",
            "www.event.rbc.ru\n",
            "banner.rbc.ru\n",
            "quote-otc.rbc.ru\n",
            "raiting.rbc.ru\n",
            "rating.rbc.ru\n",
            "top.rbc.ru\n",
            "graph.rbc.ru\n",
            "www.rbcinfosystems.com\n",
            "redir.rbc.ru\n",
            "pogoda.rbc.ru\n",
            "www.rbc.ua\n",
            "www.ivd.ru\n",
            "www.turbo.ru\n",
            "www.informer.ru\n",
            "export.rbc.ru\n",
            "cnews.ru\n",
            "finolymp.ru\n",
            "marketing.rbc.ru\n",
            "drinktime.ru\n",
            "conv.rbc.ru\n",
            "rss.rbc.ru\n",
            "pda.rbc.ru\n",
            "www.rbcdaily.ru\n",
            "style.rbc.ru\n",
            "map.rbc.ru\n",
            "tata.ru\n",
            "www.worldclass.ru\n",
            "zoom.cnews.ru\n",
            "sport.rbc.ru\n",
            "otc-stock.rbc.ru\n",
            "stock.rbc.ru\n",
            "www.rbcnews.com\n",
            "videoarchive.rbc.ru\n",
            "www.iglobe.ru\n",
            "ulov-umov.ru\n",
            "seminar.rbc.ru\n",
            "www.rbc.ru\n",
            "www.top.rbc.ru\n",
            "consensus.rbc.ru\n",
            "biztorg.ru\n",
            "www.quoterate.ru\n",
            "www.conf.rbc.ru\n"
          ],
          "name": "stdout"
        }
      ]
    },
    {
      "cell_type": "markdown",
      "metadata": {
        "id": "uSPrTSog8miD",
        "colab_type": "text"
      },
      "source": [
        "Задание с картой"
      ]
    },
    {
      "cell_type": "code",
      "metadata": {
        "id": "xzpk82P2B_70",
        "colab_type": "code",
        "outputId": "61688cbf-ab2d-44b3-cecb-957ad9544684",
        "colab": {
          "base_uri": "https://localhost:8080/",
          "height": 87
        }
      },
      "source": [
        "!pip install xmltodict"
      ],
      "execution_count": 0,
      "outputs": [
        {
          "output_type": "stream",
          "text": [
            "Collecting xmltodict\n",
            "  Downloading https://files.pythonhosted.org/packages/28/fd/30d5c1d3ac29ce229f6bdc40bbc20b28f716e8b363140c26eff19122d8a5/xmltodict-0.12.0-py2.py3-none-any.whl\n",
            "Installing collected packages: xmltodict\n",
            "Successfully installed xmltodict-0.12.0\n"
          ],
          "name": "stdout"
        }
      ]
    },
    {
      "cell_type": "code",
      "metadata": {
        "id": "4pgAdh94iOeU",
        "colab_type": "code",
        "outputId": "eb31980a-0f08-48d3-c96c-3f599f27048d",
        "colab": {
          "base_uri": "https://localhost:8080/",
          "height": 34
        }
      },
      "source": [
        "import xmltodict\n",
        "\n",
        "fin = open('map.osm', 'r', encoding='utf8')\n",
        "xml = fin.read()\n",
        "fin.close()\n",
        "parsedxml = xmltodict.parse(xml)\n",
        "\n",
        "searched_obj = ('building', 'kiosk')\n",
        "\n",
        "cnt = 0 \n",
        "for node in parsedxml['osm']['node']:\n",
        "  if 'tag' in node:\n",
        "    tags = node['tag']\n",
        "    name = 'noname'    \n",
        "    if isinstance (tags, list):\n",
        "      for tag in tags:\n",
        "        if '@k' in tag and tag['@k'] == searched_obj[0] and tag['@v'] == searched_obj[1]:\n",
        "            cnt += 1\n",
        "          \n",
        "print(cnt)"
      ],
      "execution_count": 0,
      "outputs": [
        {
          "output_type": "stream",
          "text": [
            "5\n"
          ],
          "name": "stdout"
        }
      ]
    }
  ]
}