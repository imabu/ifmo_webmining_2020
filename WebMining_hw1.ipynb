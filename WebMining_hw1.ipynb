{
  "nbformat": 4,
  "nbformat_minor": 0,
  "metadata": {
    "colab": {
      "name": "WebMining_hw1.ipynb",
      "provenance": [],
      "authorship_tag": "ABX9TyMbVtmy12/3Gz4dYCAI8jvM",
      "include_colab_link": true
    },
    "kernelspec": {
      "name": "python3",
      "display_name": "Python 3"
    }
  },
  "cells": [
    {
      "cell_type": "markdown",
      "metadata": {
        "id": "view-in-github",
        "colab_type": "text"
      },
      "source": [
        "<a href=\"https://colab.research.google.com/github/imabu/ifmo_webmining_2020/blob/master/WebMining_hw1.ipynb\" target=\"_parent\"><img src=\"https://colab.research.google.com/assets/colab-badge.svg\" alt=\"Open In Colab\"/></a>"
      ]
    },
    {
      "cell_type": "code",
      "metadata": {
        "id": "3GY4nGWfVlUX",
        "colab_type": "code",
        "colab": {}
      },
      "source": [
        "from urllib.request import urlopen\n",
        "from bs4 import BeautifulSoup"
      ],
      "execution_count": 0,
      "outputs": []
    },
    {
      "cell_type": "markdown",
      "metadata": {
        "id": "T5nONn3JbN2D",
        "colab_type": "text"
      },
      "source": [
        "Работа с BeautifulSoup"
      ]
    },
    {
      "cell_type": "code",
      "metadata": {
        "id": "bNW8X2C5Vw8o",
        "colab_type": "code",
        "colab": {}
      },
      "source": [
        "page_urls = ['https://www.onlinevolunteering.org/en/opportunities?page=1'] \n",
        "\n",
        "titles = []\n",
        "categories = []\n",
        "for page in page_urls:\n",
        "  resp = urlopen(page_url) # запрос\n",
        "  html = resp.read().decode('utf8') # чтение ответа\n",
        "  soup = BeautifulSoup(html, 'html.parser') # парсинг как html\n",
        "\n",
        "  categories += [p.getText() for p in soup.find_all('span', attrs = {'class' : 'name'})]\n",
        "  titles += [p.getText().strip() for p in soup.find_all('div', attrs = {'class' : 'title'})]\n",
        "\n",
        "opportunities = list(zip(categories, titles))"
      ],
      "execution_count": 0,
      "outputs": []
    },
    {
      "cell_type": "code",
      "metadata": {
        "id": "h7ii4G4DZBmt",
        "colab_type": "code",
        "colab": {
          "base_uri": "https://localhost:8080/",
          "height": 34
        },
        "outputId": "47488708-01e0-4bbe-951f-8543e0f29ffe"
      },
      "source": [
        "len(opportunities)"
      ],
      "execution_count": 29,
      "outputs": [
        {
          "output_type": "execute_result",
          "data": {
            "text/plain": [
              "52"
            ]
          },
          "metadata": {
            "tags": []
          },
          "execution_count": 29
        }
      ]
    },
    {
      "cell_type": "code",
      "metadata": {
        "id": "d1OpFMC8GiR4",
        "colab_type": "code",
        "colab": {}
      },
      "source": [
        "from collections import Counter"
      ],
      "execution_count": 0,
      "outputs": []
    },
    {
      "cell_type": "code",
      "metadata": {
        "id": "ckKBZ3UrGmlJ",
        "colab_type": "code",
        "colab": {}
      },
      "source": [
        "cnt = Counter([p[0] for p in opportunities])"
      ],
      "execution_count": 0,
      "outputs": []
    },
    {
      "cell_type": "code",
      "metadata": {
        "id": "YIadnXo1HNCt",
        "colab_type": "code",
        "colab": {
          "base_uri": "https://localhost:8080/",
          "height": 187
        },
        "outputId": "3c69eef7-41a1-4a9b-f5ba-482fd7ceac4c"
      },
      "source": [
        "cnt"
      ],
      "execution_count": 32,
      "outputs": [
        {
          "output_type": "execute_result",
          "data": {
            "text/plain": [
              "Counter({'Art and design': 10,\n",
              "         'COVID-19 Response': 7,\n",
              "         'Healthcare services': 1,\n",
              "         'Leadership & strategy': 1,\n",
              "         'Outreach and advocacy': 6,\n",
              "         'Project development and management': 4,\n",
              "         'Research': 6,\n",
              "         'Technology development': 3,\n",
              "         'Translation': 10,\n",
              "         'Writing and editing': 4})"
            ]
          },
          "metadata": {
            "tags": []
          },
          "execution_count": 32
        }
      ]
    },
    {
      "cell_type": "markdown",
      "metadata": {
        "id": "f0EsKq9Fas1u",
        "colab_type": "text"
      },
      "source": [
        "Работа с регулярными выражениями"
      ]
    },
    {
      "cell_type": "code",
      "metadata": {
        "id": "_2kYm4L-Xe_K",
        "colab_type": "code",
        "colab": {
          "base_uri": "https://localhost:8080/",
          "height": 136
        },
        "outputId": "3902e14a-d809-40f8-b2f0-b34485149041"
      },
      "source": [
        "import re\n",
        "\n",
        "[p[1] for p in opportunities if re.match('.*COVID.*', p[1])]"
      ],
      "execution_count": 35,
      "outputs": [
        {
          "output_type": "execute_result",
          "data": {
            "text/plain": [
              "['Translation COVID relevant documents from English to Bahasa, and vice versa',\n",
              " 'Provide Medical and Moral Support to help Nigerians Cope with the Coronavirus (COVID-19) Crisis',\n",
              " 'One Health Tool -- Modeling hospital bed utilization due to COVID/NCDs',\n",
              " 'Support in data collection, processing and communication on COVID-19',\n",
              " 'Graphic Designer for SDGs, UN75 and COVID19 projects',\n",
              " 'V4ACTION Nepal: Awareness raising for fighting against COVID19 pandemic',\n",
              " 'Big Data para prevenir el COVID-19: aplicación de IA para simular e identificar gráficamente focos infecciosos en Perú.']"
            ]
          },
          "metadata": {
            "tags": []
          },
          "execution_count": 35
        }
      ]
    },
    {
      "cell_type": "code",
      "metadata": {
        "id": "45yeysriYWav",
        "colab_type": "code",
        "colab": {
          "base_uri": "https://localhost:8080/",
          "height": 34
        },
        "outputId": "46936191-ca7a-4f0c-f4c6-dcd76bbc2afe"
      },
      "source": [
        "[p[1] for p in opportunities if re.match('^Big Data.*', p[1])]"
      ],
      "execution_count": 36,
      "outputs": [
        {
          "output_type": "execute_result",
          "data": {
            "text/plain": [
              "['Big Data para prevenir el COVID-19: aplicación de IA para simular e identificar gráficamente focos infecciosos en Perú.']"
            ]
          },
          "metadata": {
            "tags": []
          },
          "execution_count": 36
        }
      ]
    },
    {
      "cell_type": "code",
      "metadata": {
        "id": "yfmYv6DvYgaH",
        "colab_type": "code",
        "colab": {
          "base_uri": "https://localhost:8080/",
          "height": 85
        },
        "outputId": "0eea731b-358e-4da0-c09c-9b1764506b89"
      },
      "source": [
        "[p[1] for p in opportunities if re.match('^Write.*', p[1])]"
      ],
      "execution_count": 37,
      "outputs": [
        {
          "output_type": "execute_result",
          "data": {
            "text/plain": [
              "['Write online university course in chemistry',\n",
              " 'Write online university course in biology',\n",
              " 'Write online university course in political science',\n",
              " 'Write online university course in epidemiology']"
            ]
          },
          "metadata": {
            "tags": []
          },
          "execution_count": 37
        }
      ]
    },
    {
      "cell_type": "code",
      "metadata": {
        "id": "pOkZ3eEwaNDk",
        "colab_type": "code",
        "colab": {
          "base_uri": "https://localhost:8080/",
          "height": 68
        },
        "outputId": "8895e7fb-6513-4ec6-c336-5eb7c8d5cc99"
      },
      "source": [
        "[p[1] for p in opportunities if re.match('\\w* to \\w* translation', p[1])]"
      ],
      "execution_count": 40,
      "outputs": [
        {
          "output_type": "execute_result",
          "data": {
            "text/plain": [
              "['English to Spanish translation (approx. 2500 words) of a report on session of the CRC',\n",
              " 'English to Arabic translation (approx. 2500 words) of a report on session of the CRC',\n",
              " 'English to Russian translation (approx. 2500 words) of a report on session of the CRC']"
            ]
          },
          "metadata": {
            "tags": []
          },
          "execution_count": 40
        }
      ]
    }
  ]
}