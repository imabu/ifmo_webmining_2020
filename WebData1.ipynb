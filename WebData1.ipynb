{
  "nbformat": 4,
  "nbformat_minor": 0,
  "metadata": {
    "colab": {
      "name": "WebData1.ipynb",
      "provenance": [],
      "toc_visible": true,
      "include_colab_link": true
    },
    "kernelspec": {
      "name": "python3",
      "display_name": "Python 3"
    }
  },
  "cells": [
    {
      "cell_type": "markdown",
      "metadata": {
        "id": "view-in-github",
        "colab_type": "text"
      },
      "source": [
        "<a href=\"https://colab.research.google.com/github/imabu/ifmo_webmining_2020/blob/master/WebData1.ipynb\" target=\"_parent\"><img src=\"https://colab.research.google.com/assets/colab-badge.svg\" alt=\"Open In Colab\"/></a>"
      ]
    },
    {
      "cell_type": "markdown",
      "metadata": {
        "id": "SR5evWxrA1jH",
        "colab_type": "text"
      },
      "source": [
        "Видео 1"
      ]
    },
    {
      "cell_type": "code",
      "metadata": {
        "id": "5-hd386bJEoy",
        "colab_type": "code",
        "colab": {}
      },
      "source": [
        "import urllib.request"
      ],
      "execution_count": 0,
      "outputs": []
    },
    {
      "cell_type": "code",
      "metadata": {
        "id": "wcD2Y8koqa8i",
        "colab_type": "code",
        "colab": {}
      },
      "source": [
        "html=urllib.request.urlopen('https://ru.wikipedia.org/wiki/Python')\n",
        "webpage=html.read().decode('utf-8')"
      ],
      "execution_count": 0,
      "outputs": []
    },
    {
      "cell_type": "code",
      "metadata": {
        "id": "z06cyArXLTDc",
        "colab_type": "code",
        "colab": {}
      },
      "source": [
        "print(webpage)"
      ],
      "execution_count": 0,
      "outputs": []
    },
    {
      "cell_type": "code",
      "metadata": {
        "id": "NpTd2Z1CD_t1",
        "colab_type": "code",
        "colab": {}
      },
      "source": [
        "webpage = str(webpage)\n",
        "print (webpage.count('C++'))"
      ],
      "execution_count": 0,
      "outputs": []
    },
    {
      "cell_type": "markdown",
      "metadata": {
        "id": "NPdcXY5NAyQI",
        "colab_type": "text"
      },
      "source": [
        "Задание 1"
      ]
    },
    {
      "cell_type": "code",
      "metadata": {
        "id": "OJlcMKASAhMG",
        "colab_type": "code",
        "colab": {}
      },
      "source": [
        "html=urllib.request.urlopen('https://stepik.org/media/attachments/lesson/209717/1.html')\n",
        "webpage=html.read().decode('utf-8')\n",
        "webpage = str(webpage)\n",
        "print (webpage.count('C++'))\n",
        "print (webpage.count('Python'))"
      ],
      "execution_count": 0,
      "outputs": []
    },
    {
      "cell_type": "markdown",
      "metadata": {
        "id": "70fN9NMMML61",
        "colab_type": "text"
      },
      "source": [
        "Видео 2"
      ]
    },
    {
      "cell_type": "markdown",
      "metadata": {
        "id": "MELGy0qnMRl2",
        "colab_type": "text"
      },
      "source": [
        "Разбор с помощью конечного автомата. Нужно вспомнить циклы и условия в python, кроме того, нужно впомнить списки (list) и методы работы со строками (join)"
      ]
    },
    {
      "cell_type": "code",
      "metadata": {
        "id": "eVv2xseCMQpB",
        "colab_type": "code",
        "colab": {}
      },
      "source": [
        "html=urllib.request.urlopen('https://ru.wikipedia.org/wiki/Python')\n",
        "webpage=html.read().decode('utf-8')\n",
        "webpage = str(webpage)"
      ],
      "execution_count": 0,
      "outputs": []
    },
    {
      "cell_type": "code",
      "metadata": {
        "id": "KeNzvvV8M5e5",
        "colab_type": "code",
        "colab": {}
      },
      "source": [
        "ans = [] # заведём пустой список\n",
        "state = 0 # завёдём переменную для состояния автомата,\n",
        "# в следующем цикле меняем состояние автомата в зависимости от того, откуда символ считываем: внутри <> или снаружи  \n",
        "for c in webpage:\n",
        "  if c == '<':\n",
        "    state = 1\n",
        "  if c == '>':\n",
        "    state = 0\n",
        "  elif state == 0:\n",
        "    ans.append(c)\n",
        "webpagetextonly = ''.join(ans) #соединяет элементы списка в строку\n",
        "print (webpagetextonly)\n",
        "print (webpagetextonly.count('C++'))"
      ],
      "execution_count": 0,
      "outputs": []
    },
    {
      "cell_type": "markdown",
      "metadata": {
        "id": "RZeIJzfpcyt-",
        "colab_type": "text"
      },
      "source": [
        "Задание 2"
      ]
    },
    {
      "cell_type": "markdown",
      "metadata": {
        "id": "44Dxsj6qd5O3",
        "colab_type": "text"
      },
      "source": [
        "Для начала неплохо бы разобраться с регулярными выражениями.\n",
        "Например, тут: \n",
        "https://tproger.ru/translations/regular-expression-python/"
      ]
    },
    {
      "cell_type": "code",
      "metadata": {
        "id": "4FYL0wE0eH3T",
        "colab_type": "code",
        "colab": {}
      },
      "source": [
        "import re"
      ],
      "execution_count": 0,
      "outputs": []
    },
    {
      "cell_type": "code",
      "metadata": {
        "id": "jLhnYIIJc1Al",
        "colab_type": "code",
        "colab": {}
      },
      "source": [
        "html=urllib.request.urlopen('https://stepik.org/media/attachments/lesson/209719/2.html')\n",
        "webpage=html.read().decode('utf-8')\n",
        "webpage = str(webpage)"
      ],
      "execution_count": 0,
      "outputs": []
    },
    {
      "cell_type": "code",
      "metadata": {
        "id": "3kx89wtfdmu-",
        "colab_type": "code",
        "outputId": "57c40ea5-40e8-4f8a-fc0c-941e565bf8db",
        "colab": {
          "base_uri": "https://localhost:8080/",
          "height": 54
        }
      },
      "source": [
        "regex = '<code>(.*?)</code>'\n",
        "allstrings = sorted(re.findall(regex, webpage))\n",
        "print(allstrings)"
      ],
      "execution_count": 0,
      "outputs": [
        {
          "output_type": "stream",
          "text": [
            "['+=', '.py, .pyw, .pyc, .pyo, .pyd<sup id=\"cite_ref-3\" class=\"reference\"><a href=\"#cite_note-3\">&#91;3&#93;</a></sup>', '.pyc', '.pyo', '@', '@', '@декоратор(аргументы)', '__doc__', 'a, *rest, b = range(5)', 'and', 'break', 'child', 'class', 'complex', 'contextlib', 'continue', 'def', 'def foo(a, (b, c))', 'elif', 'else', 'else', 'else', 'else', 'else, except', 'except', 'except', 'except', 'except', 'exec', 'filter', 'finally', 'finally', 'finally', 'finally', 'for', 'for', 'for', 'from __future__ import print_function', 'functools', 'help()', 'if', 'import', 'import keyword; print(keyword.kwlist)', 'import this', 'int', 'int', 'int, str, float, list', 'io', \"is, '.', '='\", 'itertools', 'len()', 'logging', 'long', 'map', 'master', 'next()', 'or', 'or', 'parent', 'pass', 'pdb', 'print', 'printf()', 'profile', 're', 'reduce', 'reduce', 'reload()', 'return', 'return', 'return', 's[N:M]', 'send()', 'slave', 'sort()', 'sys.exc_info()', 'threading', 'throw()', 'timeit', 'try', 'try', 'try', 'try, except, else, finally, raise', 'unittest', 'while', 'with', 'with', 'yield', 'yield', '{el1, el2, el3}', '{k: v for k, v in a_dict}']\n"
          ],
          "name": "stdout"
        }
      ]
    },
    {
      "cell_type": "markdown",
      "metadata": {
        "id": "K2Lz6Y4qeu9l",
        "colab_type": "text"
      },
      "source": [
        "Регулярное выражение означает, что сюда должно попадать любое выражение, которое начинается на < code >, заканчивается на < /code >, а в середине между ними может быть любое количество любых символов, или не быть вовсе(.*), знак ? нужен для отключения \"жадности\". \n",
        "Скобки нужны, чтобы функция findall() из модуля re из всего выражения взяла только то что в скобках, она делает список из всех этих встречающихся выражений. "
      ]
    },
    {
      "cell_type": "markdown",
      "metadata": {
        "id": "u0DTy-Dlf-YR",
        "colab_type": "text"
      },
      "source": [
        "Остаётся вопрос, что делать со списком allstrings."
      ]
    },
    {
      "cell_type": "code",
      "metadata": {
        "id": "lRFzcTDTf11a",
        "colab_type": "code",
        "colab": {}
      },
      "source": [
        "import collections"
      ],
      "execution_count": 0,
      "outputs": []
    },
    {
      "cell_type": "code",
      "metadata": {
        "id": "Yc23AR9zgjfj",
        "colab_type": "code",
        "colab": {}
      },
      "source": [
        "dictstrings = collections.Counter(allstrings)"
      ],
      "execution_count": 0,
      "outputs": []
    },
    {
      "cell_type": "markdown",
      "metadata": {
        "id": "4lOgFKqQgxmQ",
        "colab_type": "text"
      },
      "source": [
        "Теперь dictstrings - это словарь (dictionary). В этом словаре в качестве ключей используются строки, а в качестве значений количество вхождений этих строк в исходном списке allstrings."
      ]
    },
    {
      "cell_type": "code",
      "metadata": {
        "id": "JRoyskLxhSF7",
        "colab_type": "code",
        "outputId": "e1f69067-f7f6-46b0-bfd3-6c773f92e15b",
        "colab": {
          "base_uri": "https://localhost:8080/",
          "height": 54
        }
      },
      "source": [
        "print (dictstrings)"
      ],
      "execution_count": 0,
      "outputs": [
        {
          "output_type": "stream",
          "text": [
            "Counter({'else': 4, 'except': 4, 'finally': 4, 'for': 3, 'return': 3, 'try': 3, '@': 2, 'int': 2, 'or': 2, 'reduce': 2, 'with': 2, 'yield': 2, '+=': 1, '.py, .pyw, .pyc, .pyo, .pyd<sup id=\"cite_ref-3\" class=\"reference\"><a href=\"#cite_note-3\">&#91;3&#93;</a></sup>': 1, '.pyc': 1, '.pyo': 1, '@декоратор(аргументы)': 1, '__doc__': 1, 'a, *rest, b = range(5)': 1, 'and': 1, 'break': 1, 'child': 1, 'class': 1, 'complex': 1, 'contextlib': 1, 'continue': 1, 'def': 1, 'def foo(a, (b, c))': 1, 'elif': 1, 'else, except': 1, 'exec': 1, 'filter': 1, 'from __future__ import print_function': 1, 'functools': 1, 'help()': 1, 'if': 1, 'import': 1, 'import keyword; print(keyword.kwlist)': 1, 'import this': 1, 'int, str, float, list': 1, 'io': 1, \"is, '.', '='\": 1, 'itertools': 1, 'len()': 1, 'logging': 1, 'long': 1, 'map': 1, 'master': 1, 'next()': 1, 'parent': 1, 'pass': 1, 'pdb': 1, 'print': 1, 'printf()': 1, 'profile': 1, 're': 1, 'reload()': 1, 's[N:M]': 1, 'send()': 1, 'slave': 1, 'sort()': 1, 'sys.exc_info()': 1, 'threading': 1, 'throw()': 1, 'timeit': 1, 'try, except, else, finally, raise': 1, 'unittest': 1, 'while': 1, '{el1, el2, el3}': 1, '{k: v for k, v in a_dict}': 1})\n"
          ],
          "name": "stdout"
        }
      ]
    },
    {
      "cell_type": "markdown",
      "metadata": {
        "id": "-iW2W9PYiQTo",
        "colab_type": "text"
      },
      "source": [
        "В последних версиях Python словарь - это упорядоченная коллекция."
      ]
    },
    {
      "cell_type": "code",
      "metadata": {
        "id": "91loMc-qiALp",
        "colab_type": "code",
        "outputId": "25d74d10-5692-46cf-e5f7-ab0b6a24de81",
        "colab": {
          "base_uri": "https://localhost:8080/",
          "height": 34
        }
      },
      "source": [
        "print (dictstrings.most_common(5))"
      ],
      "execution_count": 0,
      "outputs": [
        {
          "output_type": "stream",
          "text": [
            "[('else', 4), ('except', 4), ('finally', 4), ('for', 3), ('return', 3)]\n"
          ],
          "name": "stdout"
        }
      ]
    },
    {
      "cell_type": "markdown",
      "metadata": {
        "id": "cnqC3rckinem",
        "colab_type": "text"
      },
      "source": [
        "В качестве дополнительного задания, попробуйте написать код, который выведет правильный ответ в том формате, как требуется по заданию."
      ]
    },
    {
      "cell_type": "markdown",
      "metadata": {
        "id": "o_6ZfQGRivV2",
        "colab_type": "text"
      },
      "source": [
        "Видео 3"
      ]
    },
    {
      "cell_type": "markdown",
      "metadata": {
        "id": "t4lVbCHQto1H",
        "colab_type": "text"
      },
      "source": [
        "Не рекомендую смотреть вторую половину, информативного там мало."
      ]
    },
    {
      "cell_type": "markdown",
      "metadata": {
        "id": "tUOT9n7tMWrl",
        "colab_type": "text"
      },
      "source": [
        "Задача найти все ссылки на странице. Пока мы это делаем без специализированных библиотек."
      ]
    },
    {
      "cell_type": "markdown",
      "metadata": {
        "id": "iGD1odzdMham",
        "colab_type": "text"
      },
      "source": [
        "В HTML ссылка оформляется так: \\<a href='адрес'\\> Материалы по HTML: https://html5book.ru/"
      ]
    },
    {
      "cell_type": "code",
      "metadata": {
        "id": "64mjyMpFixyp",
        "colab_type": "code",
        "colab": {}
      },
      "source": [
        "html=urllib.request.urlopen('https://ru.wikipedia.org/wiki/Python')\n",
        "webpage=html.read().decode('utf-8')\n",
        "webpage = str(webpage)\n",
        "pos = webpage.find('<a href=')\n",
        "print (pos) #это первая позиция (номер элемента строки), в которой есть ссылка"
      ],
      "execution_count": 0,
      "outputs": []
    },
    {
      "cell_type": "code",
      "metadata": {
        "id": "dGvhI5KFODlF",
        "colab_type": "code",
        "colab": {}
      },
      "source": [
        "while pos != -1: #мы зайдём в этот цикл, если ссылка вообще есть\n",
        "    posquote = webpage.find('\"', pos+9) # ищем позицию закрывающей \"\n",
        "    href = webpage[pos+9:posquote] # делаем срез строки\n",
        "    print (href)\n",
        "    pos = webpage.find('<a href=', posquote)"
      ],
      "execution_count": 0,
      "outputs": []
    },
    {
      "cell_type": "markdown",
      "metadata": {
        "id": "1ndWu4ZQRWfk",
        "colab_type": "text"
      },
      "source": [
        "Видео (их там три) про основы BeautifulSoup https://www.coursera.org/lecture/python-for-web/vviedieniie-v-beautiful-soup-Xoihi"
      ]
    },
    {
      "cell_type": "markdown",
      "metadata": {
        "id": "pP1r6CLFRdP1",
        "colab_type": "text"
      },
      "source": [
        "Оригинальная документация: https://www.crummy.com/software/BeautifulSoup/bs4/doc/ Документация на русском: http://bs4ru.geekwriter.ru/"
      ]
    },
    {
      "cell_type": "code",
      "metadata": {
        "id": "GjkluYHVRc1Z",
        "colab_type": "code",
        "colab": {}
      },
      "source": [
        "from bs4 import BeautifulSoup"
      ],
      "execution_count": 0,
      "outputs": []
    },
    {
      "cell_type": "markdown",
      "metadata": {
        "id": "Gc8E84N6TVEl",
        "colab_type": "text"
      },
      "source": [
        "Задание 3"
      ]
    },
    {
      "cell_type": "markdown",
      "metadata": {
        "id": "d_vmrQKwTWju",
        "colab_type": "text"
      },
      "source": [
        "Нужно просто скопировать и вставить."
      ]
    },
    {
      "cell_type": "code",
      "metadata": {
        "id": "NgVnGhvBTCQe",
        "colab_type": "code",
        "colab": {}
      },
      "source": [
        "from urllib.request import urlopen, urlretrieve\n",
        "from bs4 import BeautifulSoup\n",
        "\n",
        "resp = urlopen('https://stepik.org/media/attachments/lesson/245130/6.html') # скачиваем файл\n",
        "html = resp.read().decode('utf8') # считываем содержимое\n",
        "soup = BeautifulSoup(html, 'html.parser') # делаем суп\n",
        "table = soup.find('table', attrs = {'class' : 'wikitable sortable'})\n",
        "cnt = 0\n",
        "for tr in soup.find_all('tr'):\n",
        "    cnt += 1\n",
        "    for td in tr.find_all(['td', 'th']):\n",
        "        cnt *= 2\n",
        "print(cnt)"
      ],
      "execution_count": 0,
      "outputs": []
    },
    {
      "cell_type": "markdown",
      "metadata": {
        "id": "Fn2EcI7IWqFj",
        "colab_type": "text"
      },
      "source": [
        ""
      ]
    },
    {
      "cell_type": "markdown",
      "metadata": {
        "id": "FwL-e0dwWqLS",
        "colab_type": "text"
      },
      "source": [
        "Видео 4"
      ]
    },
    {
      "cell_type": "markdown",
      "metadata": {
        "id": "eJxYwdDHWsrd",
        "colab_type": "text"
      },
      "source": [
        "Делаем то же самое, что в видео 3, но теперь с помощью BeautifulSoup"
      ]
    },
    {
      "cell_type": "code",
      "metadata": {
        "id": "95oCBUmhWyrm",
        "colab_type": "code",
        "colab": {}
      },
      "source": [
        "html=urllib.request.urlopen('https://ru.wikipedia.org/wiki/Python')\n",
        "webpage=html.read().decode('utf-8')\n",
        "webpage = str(webpage)\n",
        "soup = BeautifulSoup(webpage, 'html.parser')\n",
        "print(soup.find_all('a'))"
      ],
      "execution_count": 0,
      "outputs": []
    },
    {
      "cell_type": "code",
      "metadata": {
        "id": "LMDLLAKHbmYQ",
        "colab_type": "code",
        "colab": {}
      },
      "source": [
        "for a in soup.find_all('a', href=True):\n",
        "  print (a['href'])"
      ],
      "execution_count": 0,
      "outputs": []
    },
    {
      "cell_type": "markdown",
      "metadata": {
        "id": "w5dMyneOMQ28",
        "colab_type": "text"
      },
      "source": [
        "Задание 4"
      ]
    },
    {
      "cell_type": "code",
      "metadata": {
        "id": "eT8dLJceMUSb",
        "colab_type": "code",
        "colab": {}
      },
      "source": [
        "from urllib.request import urlopen, urlretrieve\n",
        "from bs4 import BeautifulSoup\n",
        "# можно взять за основу код из задания 3\n",
        "resp = urlopen('https://stepik.org/media/attachments/lesson/209723/3.html') # скачиваем файл\n",
        "html = resp.read().decode('utf8') # считываем содержимое\n",
        "soup = BeautifulSoup(html, 'html.parser') # делаем суп\n",
        "for tr in soup.find_all('tr'):\n",
        "    for td in tr.find_all(['td', 'th']):\n",
        "        print (td.text) # выводит значения всех ячеек\n"
      ],
      "execution_count": 0,
      "outputs": []
    },
    {
      "cell_type": "markdown",
      "metadata": {
        "id": "NlEIHLM_QZuN",
        "colab_type": "text"
      },
      "source": [
        "Домашнее задание"
      ]
    },
    {
      "cell_type": "markdown",
      "metadata": {
        "id": "W50WT4k5QhBV",
        "colab_type": "text"
      },
      "source": [
        "Разобраться с документацией к BeautifulSoup. Потренироваться скачивать страницы с других сайтов, а не только с Википедии."
      ]
    },
    {
      "cell_type": "markdown",
      "metadata": {
        "id": "jsJx8UsmQzzW",
        "colab_type": "text"
      },
      "source": [
        "Разобратся с регулярными выражениями. Те, кто проходит курс на Coursera, имеет смысл начать сразу с недели 2, посмотрев обращение создателя Python на первой неделе. Особенно полезной будет книга: https://www.py4e.com/book\n",
        "Курс начинается с Chapter 11 Regular expressions"
      ]
    }
  ]
}