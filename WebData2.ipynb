{
  "nbformat": 4,
  "nbformat_minor": 0,
  "metadata": {
    "colab": {
      "name": "WebData2.ipynb",
      "provenance": [],
      "collapsed_sections": [],
      "authorship_tag": "ABX9TyNLJyIF7GG2WDObGBnrhh4A",
      "include_colab_link": true
    },
    "kernelspec": {
      "name": "python3",
      "display_name": "Python 3"
    }
  },
  "cells": [
    {
      "cell_type": "markdown",
      "metadata": {
        "id": "view-in-github",
        "colab_type": "text"
      },
      "source": [
        "<a href=\"https://colab.research.google.com/github/imabu/ifmo_webmining_2020/blob/master/WebData2.ipynb\" target=\"_parent\"><img src=\"https://colab.research.google.com/assets/colab-badge.svg\" alt=\"Open In Colab\"/></a>"
      ]
    },
    {
      "cell_type": "code",
      "metadata": {
        "id": "XcaYmHt-e7ud",
        "colab_type": "code",
        "colab": {}
      },
      "source": [
        "import pandas as pd"
      ],
      "execution_count": 0,
      "outputs": []
    },
    {
      "cell_type": "markdown",
      "metadata": {
        "id": "fVVhI_cRh5T0",
        "colab_type": "text"
      },
      "source": [
        "Вася хочет минимизировать вес продуктов и для этого брать самые калорийные продукты. **Помогите ему и упорядочите продукты по убыванию калорийности. В случае, если продукты имеют одинаковую калорийность - упорядочите их по названию**. В качестве ответа необходимо сдать названия продуктов, по одному в строке."
      ]
    },
    {
      "cell_type": "code",
      "metadata": {
        "id": "VgYUK53KfQyj",
        "colab_type": "code",
        "colab": {}
      },
      "source": [
        "df = pd.read_excel('https://stepik.org/media/attachments/lesson/245290/trekking1.xlsx', sheet_name='Справочник', index_col=False)\n",
        "df.head(5)\n",
        "df = df.rename(columns={'Unnamed: 0': 'Название'})"
      ],
      "execution_count": 0,
      "outputs": []
    },
    {
      "cell_type": "code",
      "metadata": {
        "id": "C_iw7jJ-guJV",
        "colab_type": "code",
        "outputId": "1d704be0-97b8-4bc4-e4c9-0872ff61b77b",
        "colab": {
          "base_uri": "https://localhost:8080/",
          "height": 204
        }
      },
      "source": [
        "# замена NaN на 0\n",
        "df= df.fillna(0)\n",
        "df.head(5)"
      ],
      "execution_count": 0,
      "outputs": [
        {
          "output_type": "execute_result",
          "data": {
            "text/html": [
              "<div>\n",
              "<style scoped>\n",
              "    .dataframe tbody tr th:only-of-type {\n",
              "        vertical-align: middle;\n",
              "    }\n",
              "\n",
              "    .dataframe tbody tr th {\n",
              "        vertical-align: top;\n",
              "    }\n",
              "\n",
              "    .dataframe thead th {\n",
              "        text-align: right;\n",
              "    }\n",
              "</style>\n",
              "<table border=\"1\" class=\"dataframe\">\n",
              "  <thead>\n",
              "    <tr style=\"text-align: right;\">\n",
              "      <th></th>\n",
              "      <th>Название</th>\n",
              "      <th>ККал на 100</th>\n",
              "      <th>Б на 100</th>\n",
              "      <th>Ж на 100</th>\n",
              "      <th>У на 100</th>\n",
              "    </tr>\n",
              "  </thead>\n",
              "  <tbody>\n",
              "    <tr>\n",
              "      <th>0</th>\n",
              "      <td>Сухофрукты</td>\n",
              "      <td>548.0</td>\n",
              "      <td>12.8</td>\n",
              "      <td>40.8</td>\n",
              "      <td>32.4</td>\n",
              "    </tr>\n",
              "    <tr>\n",
              "      <th>1</th>\n",
              "      <td>Каша Быстров</td>\n",
              "      <td>334.0</td>\n",
              "      <td>8.6</td>\n",
              "      <td>4.8</td>\n",
              "      <td>64.0</td>\n",
              "    </tr>\n",
              "    <tr>\n",
              "      <th>2</th>\n",
              "      <td>Балык \"Королевский\"</td>\n",
              "      <td>170.0</td>\n",
              "      <td>25.0</td>\n",
              "      <td>8.0</td>\n",
              "      <td>0.0</td>\n",
              "    </tr>\n",
              "    <tr>\n",
              "      <th>3</th>\n",
              "      <td>Колбаса с/к \"Еврейская полусухая\"</td>\n",
              "      <td>481.0</td>\n",
              "      <td>19.0</td>\n",
              "      <td>45.0</td>\n",
              "      <td>0.0</td>\n",
              "    </tr>\n",
              "    <tr>\n",
              "      <th>4</th>\n",
              "      <td>Суп гороховый с копченостями</td>\n",
              "      <td>390.0</td>\n",
              "      <td>16.0</td>\n",
              "      <td>11.0</td>\n",
              "      <td>52.0</td>\n",
              "    </tr>\n",
              "  </tbody>\n",
              "</table>\n",
              "</div>"
            ],
            "text/plain": [
              "                            Название  ККал на 100  Б на 100  Ж на 100  У на 100\n",
              "0                         Сухофрукты        548.0      12.8      40.8      32.4\n",
              "1                       Каша Быстров        334.0       8.6       4.8      64.0\n",
              "2                Балык \"Королевский\"        170.0      25.0       8.0       0.0\n",
              "3  Колбаса с/к \"Еврейская полусухая\"        481.0      19.0      45.0       0.0\n",
              "4       Суп гороховый с копченостями        390.0      16.0      11.0      52.0"
            ]
          },
          "metadata": {
            "tags": []
          },
          "execution_count": 16
        }
      ]
    },
    {
      "cell_type": "code",
      "metadata": {
        "id": "6TZbyWgrh14W",
        "colab_type": "code",
        "outputId": "6159016c-c8b1-4064-f2a8-81835803e829",
        "colab": {
          "base_uri": "https://localhost:8080/",
          "height": 663
        }
      },
      "source": [
        "df.sort_values(['ККал на 100', 'Название'], ascending=(False, True))['Название']"
      ],
      "execution_count": 0,
      "outputs": [
        {
          "output_type": "execute_result",
          "data": {
            "text/plain": [
              "14                   Шоколад молочный какао\n",
              "15                 Шоколад молочный миндаль\n",
              "0                                Сухофрукты\n",
              "35            Омлет с копченостями галагала\n",
              "26                   Свинина сублимрованная\n",
              "16                      Шоколад ремесленный\n",
              "13                     Козинак подсолнечный\n",
              "34                 Омлет с грибами галагала\n",
              "12                       Козинак арахисовый\n",
              "21                 Хлебцы льняные \"Тайские\"\n",
              "3         Колбаса с/к \"Еврейская полусухая\"\n",
              "25                  Говядина сублимрованная\n",
              "20              Сухарики ржаные с семечками\n",
              "22                   Хлебцы льняные Морские\n",
              "30        Суп говяжий с картофелем галагала\n",
              "4              Суп гороховый с копченостями\n",
              "31    Суп гороховый с копченостями галагала\n",
              "29        Суп куриный с картофелем галагала\n",
              "28                       Суп-гуляш галагала\n",
              "32                       Суп-харчо \"Острый\"\n",
              "17                              Сыр Маасдам\n",
              "19                               Сыр Чеддер\n",
              "27                 Борщ Московский Галагала\n",
              "9                           Крупа гречневая\n",
              "8                    Рис пропаренный Увелка\n",
              "7                          Свинина Кронидов\n",
              "11               Сухарики ржаные Finn Crisp\n",
              "10                          Капеллини Макфа\n",
              "18                                Сыр Гауда\n",
              "36                                  Кус Кус\n",
              "1                              Каша Быстров\n",
              "33                        Картофель сушеный\n",
              "6                         Говядина Кронидов\n",
              "24                Хлебцы с чесноком и луком\n",
              "5                      Суп томатный с рисом\n",
              "2                       Балык \"Королевский\"\n",
              "23                                  Паутина\n",
              "Name: Название, dtype: object"
            ]
          },
          "metadata": {
            "tags": []
          },
          "execution_count": 18
        }
      ]
    },
    {
      "cell_type": "markdown",
      "metadata": {
        "id": "iTNpsZuXlAER",
        "colab_type": "text"
      },
      "source": [
        "Вася составил раскладку по продуктам на один день (она на листе \"Раскладка\") с указанием названия продукта и его количества в граммах. **Посчитайте 4 числа: суммарную калорийность и граммы белков, жиров и углеводов. Числа округлите до целых вниз и введите через пробел**"
      ]
    },
    {
      "cell_type": "code",
      "metadata": {
        "id": "e1J-ub-Jl4T5",
        "colab_type": "code",
        "outputId": "558aeea3-41c7-4eef-827b-383f710375c4",
        "colab": {
          "base_uri": "https://localhost:8080/",
          "height": 204
        }
      },
      "source": [
        "ref = pd.read_excel('https://stepik.org/media/attachments/lesson/245290/trekking2.xlsx', sheet_name='Справочник', index_col=False)\n",
        "ref = ref.rename(columns={'Unnamed: 0': 'Продукт'}).fillna(0)\n",
        "ref.head(5)"
      ],
      "execution_count": 0,
      "outputs": [
        {
          "output_type": "execute_result",
          "data": {
            "text/html": [
              "<div>\n",
              "<style scoped>\n",
              "    .dataframe tbody tr th:only-of-type {\n",
              "        vertical-align: middle;\n",
              "    }\n",
              "\n",
              "    .dataframe tbody tr th {\n",
              "        vertical-align: top;\n",
              "    }\n",
              "\n",
              "    .dataframe thead th {\n",
              "        text-align: right;\n",
              "    }\n",
              "</style>\n",
              "<table border=\"1\" class=\"dataframe\">\n",
              "  <thead>\n",
              "    <tr style=\"text-align: right;\">\n",
              "      <th></th>\n",
              "      <th>Продукт</th>\n",
              "      <th>ККал на 100</th>\n",
              "      <th>Б на 100</th>\n",
              "      <th>Ж на 100</th>\n",
              "      <th>У на 100</th>\n",
              "    </tr>\n",
              "  </thead>\n",
              "  <tbody>\n",
              "    <tr>\n",
              "      <th>0</th>\n",
              "      <td>Сухофрукты</td>\n",
              "      <td>548.0</td>\n",
              "      <td>12.8</td>\n",
              "      <td>40.8</td>\n",
              "      <td>32.4</td>\n",
              "    </tr>\n",
              "    <tr>\n",
              "      <th>1</th>\n",
              "      <td>Каша Быстров</td>\n",
              "      <td>334.0</td>\n",
              "      <td>8.6</td>\n",
              "      <td>4.8</td>\n",
              "      <td>64.0</td>\n",
              "    </tr>\n",
              "    <tr>\n",
              "      <th>2</th>\n",
              "      <td>Балык \"Королевский\"</td>\n",
              "      <td>170.0</td>\n",
              "      <td>25.0</td>\n",
              "      <td>8.0</td>\n",
              "      <td>0.0</td>\n",
              "    </tr>\n",
              "    <tr>\n",
              "      <th>3</th>\n",
              "      <td>Колбаса с/к \"Еврейская полусухая\"</td>\n",
              "      <td>481.0</td>\n",
              "      <td>19.0</td>\n",
              "      <td>45.0</td>\n",
              "      <td>0.0</td>\n",
              "    </tr>\n",
              "    <tr>\n",
              "      <th>4</th>\n",
              "      <td>Суп гороховый с копченостями</td>\n",
              "      <td>390.0</td>\n",
              "      <td>16.0</td>\n",
              "      <td>11.0</td>\n",
              "      <td>52.0</td>\n",
              "    </tr>\n",
              "  </tbody>\n",
              "</table>\n",
              "</div>"
            ],
            "text/plain": [
              "                             Продукт  ККал на 100  Б на 100  Ж на 100  У на 100\n",
              "0                         Сухофрукты        548.0      12.8      40.8      32.4\n",
              "1                       Каша Быстров        334.0       8.6       4.8      64.0\n",
              "2                Балык \"Королевский\"        170.0      25.0       8.0       0.0\n",
              "3  Колбаса с/к \"Еврейская полусухая\"        481.0      19.0      45.0       0.0\n",
              "4       Суп гороховый с копченостями        390.0      16.0      11.0      52.0"
            ]
          },
          "metadata": {
            "tags": []
          },
          "execution_count": 28
        }
      ]
    },
    {
      "cell_type": "code",
      "metadata": {
        "id": "tdfLefbBk4Y4",
        "colab_type": "code",
        "outputId": "0254e9ef-1100-427f-93b4-ea352601c713",
        "colab": {
          "base_uri": "https://localhost:8080/",
          "height": 204
        }
      },
      "source": [
        "amount_of_products = pd.read_excel('https://stepik.org/media/attachments/lesson/245290/trekking2.xlsx', sheet_name='Раскладка', index_col=False)\n",
        "amount_of_products.head(5)"
      ],
      "execution_count": 0,
      "outputs": [
        {
          "output_type": "execute_result",
          "data": {
            "text/html": [
              "<div>\n",
              "<style scoped>\n",
              "    .dataframe tbody tr th:only-of-type {\n",
              "        vertical-align: middle;\n",
              "    }\n",
              "\n",
              "    .dataframe tbody tr th {\n",
              "        vertical-align: top;\n",
              "    }\n",
              "\n",
              "    .dataframe thead th {\n",
              "        text-align: right;\n",
              "    }\n",
              "</style>\n",
              "<table border=\"1\" class=\"dataframe\">\n",
              "  <thead>\n",
              "    <tr style=\"text-align: right;\">\n",
              "      <th></th>\n",
              "      <th>Продукт</th>\n",
              "      <th>Вес в граммах</th>\n",
              "    </tr>\n",
              "  </thead>\n",
              "  <tbody>\n",
              "    <tr>\n",
              "      <th>0</th>\n",
              "      <td>Омлет с грибами галагала</td>\n",
              "      <td>60</td>\n",
              "    </tr>\n",
              "    <tr>\n",
              "      <th>1</th>\n",
              "      <td>Сыр Маасдам</td>\n",
              "      <td>80</td>\n",
              "    </tr>\n",
              "    <tr>\n",
              "      <th>2</th>\n",
              "      <td>Хлебцы льняные Морские</td>\n",
              "      <td>55</td>\n",
              "    </tr>\n",
              "    <tr>\n",
              "      <th>3</th>\n",
              "      <td>Суп гороховый с копченостями</td>\n",
              "      <td>44</td>\n",
              "    </tr>\n",
              "    <tr>\n",
              "      <th>4</th>\n",
              "      <td>Хлебцы льняные Морские</td>\n",
              "      <td>55</td>\n",
              "    </tr>\n",
              "  </tbody>\n",
              "</table>\n",
              "</div>"
            ],
            "text/plain": [
              "                        Продукт  Вес в граммах\n",
              "0      Омлет с грибами галагала             60\n",
              "1                   Сыр Маасдам             80\n",
              "2        Хлебцы льняные Морские             55\n",
              "3  Суп гороховый с копченостями             44\n",
              "4        Хлебцы льняные Морские             55"
            ]
          },
          "metadata": {
            "tags": []
          },
          "execution_count": 23
        }
      ]
    },
    {
      "cell_type": "code",
      "metadata": {
        "id": "ttZ-ak-plV4L",
        "colab_type": "code",
        "colab": {}
      },
      "source": [
        "joined = ref.join(amount_of_products.set_index('Продукт'), how='inner', on='Продукт')"
      ],
      "execution_count": 0,
      "outputs": []
    },
    {
      "cell_type": "code",
      "metadata": {
        "id": "8PByTV5_qJQC",
        "colab_type": "code",
        "outputId": "c15ce36b-aba4-4663-9128-af0cbe3ea2fb",
        "colab": {
          "base_uri": "https://localhost:8080/",
          "height": 34
        }
      },
      "source": [
        "sum(joined['ККал на 100'] * joined['Вес в граммах'] / 100)"
      ],
      "execution_count": 0,
      "outputs": [
        {
          "output_type": "execute_result",
          "data": {
            "text/plain": [
              "4963.849999999999"
            ]
          },
          "metadata": {
            "tags": []
          },
          "execution_count": 34
        }
      ]
    },
    {
      "cell_type": "code",
      "metadata": {
        "id": "QFDX2l38qwpc",
        "colab_type": "code",
        "outputId": "5026669d-5e01-42bd-be45-3ec0f1ba0048",
        "colab": {
          "base_uri": "https://localhost:8080/",
          "height": 34
        }
      },
      "source": [
        "sum(joined['Б на 100'] * joined['Вес в граммах'] / 100)"
      ],
      "execution_count": 0,
      "outputs": [
        {
          "output_type": "execute_result",
          "data": {
            "text/plain": [
              "203.16999999999996"
            ]
          },
          "metadata": {
            "tags": []
          },
          "execution_count": 35
        }
      ]
    },
    {
      "cell_type": "code",
      "metadata": {
        "id": "jlL6PVZdqwvB",
        "colab_type": "code",
        "outputId": "95f0ad55-496a-495a-9ff6-a8a0c736f459",
        "colab": {
          "base_uri": "https://localhost:8080/",
          "height": 34
        }
      },
      "source": [
        "sum(joined['Ж на 100'] * joined['Вес в граммах'] / 100)"
      ],
      "execution_count": 0,
      "outputs": [
        {
          "output_type": "execute_result",
          "data": {
            "text/plain": [
              "307.4"
            ]
          },
          "metadata": {
            "tags": []
          },
          "execution_count": 36
        }
      ]
    },
    {
      "cell_type": "code",
      "metadata": {
        "id": "L7hHefIbqw3A",
        "colab_type": "code",
        "outputId": "3fbc8f09-ff87-4e10-89da-bd3aced5eed3",
        "colab": {
          "base_uri": "https://localhost:8080/",
          "height": 34
        }
      },
      "source": [
        "sum(joined['У на 100'] * joined['Вес в граммах'] / 100)"
      ],
      "execution_count": 0,
      "outputs": [
        {
          "output_type": "execute_result",
          "data": {
            "text/plain": [
              "302.15"
            ]
          },
          "metadata": {
            "tags": []
          },
          "execution_count": 37
        }
      ]
    },
    {
      "cell_type": "markdown",
      "metadata": {
        "id": "YymaFt1e-9ZH",
        "colab_type": "text"
      },
      "source": [
        "Вася составил раскладку по продуктам на весь поход (она на листе \"Раскладка\") с указанием номера дня, названия продукта и его количества в граммах. **Для каждого дня посчитайте 4 числа: суммарную калорийность и граммы белков, жиров и углеводов**. Числа округлите до целых вниз и введите через пробел. Информация о каждом дне должна выводиться в отдельной строке."
      ]
    },
    {
      "cell_type": "code",
      "metadata": {
        "id": "K4AZl07g_Eij",
        "colab_type": "code",
        "colab": {
          "base_uri": "https://localhost:8080/",
          "height": 204
        },
        "outputId": "521e9b46-3063-467b-8de7-b920f13297e7"
      },
      "source": [
        "file_src = 'https://stepik.org/media/attachments/lesson/245290/trekking3.xlsx'\n",
        "\n",
        "ref = pd.read_excel(file_src, sheet_name='Справочник', index_col=False)\n",
        "ref = ref.rename(columns={'Unnamed: 0': 'Продукт'}).fillna(0)\n",
        "amount_of_products = pd.read_excel(file_src, sheet_name='Раскладка', index_col=False)\n",
        "amount_of_products.head(5)"
      ],
      "execution_count": 4,
      "outputs": [
        {
          "output_type": "execute_result",
          "data": {
            "text/html": [
              "<div>\n",
              "<style scoped>\n",
              "    .dataframe tbody tr th:only-of-type {\n",
              "        vertical-align: middle;\n",
              "    }\n",
              "\n",
              "    .dataframe tbody tr th {\n",
              "        vertical-align: top;\n",
              "    }\n",
              "\n",
              "    .dataframe thead th {\n",
              "        text-align: right;\n",
              "    }\n",
              "</style>\n",
              "<table border=\"1\" class=\"dataframe\">\n",
              "  <thead>\n",
              "    <tr style=\"text-align: right;\">\n",
              "      <th></th>\n",
              "      <th>День</th>\n",
              "      <th>Продукт</th>\n",
              "      <th>Вес в граммах</th>\n",
              "    </tr>\n",
              "  </thead>\n",
              "  <tbody>\n",
              "    <tr>\n",
              "      <th>0</th>\n",
              "      <td>1</td>\n",
              "      <td>Рис пропаренный Увелка</td>\n",
              "      <td>160</td>\n",
              "    </tr>\n",
              "    <tr>\n",
              "      <th>1</th>\n",
              "      <td>1</td>\n",
              "      <td>Свинина Кронидов</td>\n",
              "      <td>250</td>\n",
              "    </tr>\n",
              "    <tr>\n",
              "      <th>2</th>\n",
              "      <td>1</td>\n",
              "      <td>Хлебцы льняные \"Тайские\"</td>\n",
              "      <td>110</td>\n",
              "    </tr>\n",
              "    <tr>\n",
              "      <th>3</th>\n",
              "      <td>1</td>\n",
              "      <td>Балык \"Королевский\"</td>\n",
              "      <td>50</td>\n",
              "    </tr>\n",
              "    <tr>\n",
              "      <th>4</th>\n",
              "      <td>1</td>\n",
              "      <td>Шоколад молочный какао</td>\n",
              "      <td>55</td>\n",
              "    </tr>\n",
              "  </tbody>\n",
              "</table>\n",
              "</div>"
            ],
            "text/plain": [
              "   День                   Продукт  Вес в граммах\n",
              "0     1    Рис пропаренный Увелка            160\n",
              "1     1          Свинина Кронидов            250\n",
              "2     1  Хлебцы льняные \"Тайские\"            110\n",
              "3     1       Балык \"Королевский\"             50\n",
              "4     1    Шоколад молочный какао             55"
            ]
          },
          "metadata": {
            "tags": []
          },
          "execution_count": 4
        }
      ]
    },
    {
      "cell_type": "code",
      "metadata": {
        "id": "S9NS-C9L_x9q",
        "colab_type": "code",
        "colab": {
          "base_uri": "https://localhost:8080/",
          "height": 204
        },
        "outputId": "a889b7f9-c27b-4d42-bc8e-16f3be80800d"
      },
      "source": [
        "joined = ref.join(amount_of_products.set_index('Продукт'), how='inner', on='Продукт')\n",
        "joined['ККал'] = joined['ККал на 100'] * joined['Вес в граммах'] / 100\n",
        "joined['Б'] = joined['Б на 100'] * joined['Вес в граммах'] / 100\n",
        "joined['Ж'] = joined['Ж на 100'] * joined['Вес в граммах'] / 100\n",
        "joined['У'] = joined['У на 100'] * joined['Вес в граммах'] / 100\n",
        "joined.head(5)"
      ],
      "execution_count": 8,
      "outputs": [
        {
          "output_type": "execute_result",
          "data": {
            "text/html": [
              "<div>\n",
              "<style scoped>\n",
              "    .dataframe tbody tr th:only-of-type {\n",
              "        vertical-align: middle;\n",
              "    }\n",
              "\n",
              "    .dataframe tbody tr th {\n",
              "        vertical-align: top;\n",
              "    }\n",
              "\n",
              "    .dataframe thead th {\n",
              "        text-align: right;\n",
              "    }\n",
              "</style>\n",
              "<table border=\"1\" class=\"dataframe\">\n",
              "  <thead>\n",
              "    <tr style=\"text-align: right;\">\n",
              "      <th></th>\n",
              "      <th>Продукт</th>\n",
              "      <th>ККал на 100</th>\n",
              "      <th>Б на 100</th>\n",
              "      <th>Ж на 100</th>\n",
              "      <th>У на 100</th>\n",
              "      <th>День</th>\n",
              "      <th>Вес в граммах</th>\n",
              "      <th>ККал</th>\n",
              "      <th>Б</th>\n",
              "      <th>Ж</th>\n",
              "      <th>У</th>\n",
              "    </tr>\n",
              "  </thead>\n",
              "  <tbody>\n",
              "    <tr>\n",
              "      <th>0</th>\n",
              "      <td>Сухофрукты</td>\n",
              "      <td>548.0</td>\n",
              "      <td>12.8</td>\n",
              "      <td>40.8</td>\n",
              "      <td>32.4</td>\n",
              "      <td>2</td>\n",
              "      <td>150</td>\n",
              "      <td>822.0</td>\n",
              "      <td>19.2</td>\n",
              "      <td>61.2</td>\n",
              "      <td>48.6</td>\n",
              "    </tr>\n",
              "    <tr>\n",
              "      <th>0</th>\n",
              "      <td>Сухофрукты</td>\n",
              "      <td>548.0</td>\n",
              "      <td>12.8</td>\n",
              "      <td>40.8</td>\n",
              "      <td>32.4</td>\n",
              "      <td>3</td>\n",
              "      <td>150</td>\n",
              "      <td>822.0</td>\n",
              "      <td>19.2</td>\n",
              "      <td>61.2</td>\n",
              "      <td>48.6</td>\n",
              "    </tr>\n",
              "    <tr>\n",
              "      <th>0</th>\n",
              "      <td>Сухофрукты</td>\n",
              "      <td>548.0</td>\n",
              "      <td>12.8</td>\n",
              "      <td>40.8</td>\n",
              "      <td>32.4</td>\n",
              "      <td>5</td>\n",
              "      <td>150</td>\n",
              "      <td>822.0</td>\n",
              "      <td>19.2</td>\n",
              "      <td>61.2</td>\n",
              "      <td>48.6</td>\n",
              "    </tr>\n",
              "    <tr>\n",
              "      <th>0</th>\n",
              "      <td>Сухофрукты</td>\n",
              "      <td>548.0</td>\n",
              "      <td>12.8</td>\n",
              "      <td>40.8</td>\n",
              "      <td>32.4</td>\n",
              "      <td>6</td>\n",
              "      <td>150</td>\n",
              "      <td>822.0</td>\n",
              "      <td>19.2</td>\n",
              "      <td>61.2</td>\n",
              "      <td>48.6</td>\n",
              "    </tr>\n",
              "    <tr>\n",
              "      <th>0</th>\n",
              "      <td>Сухофрукты</td>\n",
              "      <td>548.0</td>\n",
              "      <td>12.8</td>\n",
              "      <td>40.8</td>\n",
              "      <td>32.4</td>\n",
              "      <td>8</td>\n",
              "      <td>150</td>\n",
              "      <td>822.0</td>\n",
              "      <td>19.2</td>\n",
              "      <td>61.2</td>\n",
              "      <td>48.6</td>\n",
              "    </tr>\n",
              "  </tbody>\n",
              "</table>\n",
              "</div>"
            ],
            "text/plain": [
              "      Продукт  ККал на 100  Б на 100  Ж на 100  ...   ККал     Б     Ж     У\n",
              "0  Сухофрукты        548.0      12.8      40.8  ...  822.0  19.2  61.2  48.6\n",
              "0  Сухофрукты        548.0      12.8      40.8  ...  822.0  19.2  61.2  48.6\n",
              "0  Сухофрукты        548.0      12.8      40.8  ...  822.0  19.2  61.2  48.6\n",
              "0  Сухофрукты        548.0      12.8      40.8  ...  822.0  19.2  61.2  48.6\n",
              "0  Сухофрукты        548.0      12.8      40.8  ...  822.0  19.2  61.2  48.6\n",
              "\n",
              "[5 rows x 11 columns]"
            ]
          },
          "metadata": {
            "tags": []
          },
          "execution_count": 8
        }
      ]
    },
    {
      "cell_type": "code",
      "metadata": {
        "id": "453X46vaADni",
        "colab_type": "code",
        "colab": {
          "base_uri": "https://localhost:8080/",
          "height": 359
        },
        "outputId": "e972dcf6-fdf8-40bf-e5c0-61949a0c5dc6"
      },
      "source": [
        "joined.groupby('День').agg({'ККал':'sum', 'Б':'sum', 'Ж':'sum', 'У':'sum'})"
      ],
      "execution_count": 9,
      "outputs": [
        {
          "output_type": "execute_result",
          "data": {
            "text/html": [
              "<div>\n",
              "<style scoped>\n",
              "    .dataframe tbody tr th:only-of-type {\n",
              "        vertical-align: middle;\n",
              "    }\n",
              "\n",
              "    .dataframe tbody tr th {\n",
              "        vertical-align: top;\n",
              "    }\n",
              "\n",
              "    .dataframe thead th {\n",
              "        text-align: right;\n",
              "    }\n",
              "</style>\n",
              "<table border=\"1\" class=\"dataframe\">\n",
              "  <thead>\n",
              "    <tr style=\"text-align: right;\">\n",
              "      <th></th>\n",
              "      <th>ККал</th>\n",
              "      <th>Б</th>\n",
              "      <th>Ж</th>\n",
              "      <th>У</th>\n",
              "    </tr>\n",
              "    <tr>\n",
              "      <th>День</th>\n",
              "      <th></th>\n",
              "      <th></th>\n",
              "      <th></th>\n",
              "      <th></th>\n",
              "    </tr>\n",
              "  </thead>\n",
              "  <tbody>\n",
              "    <tr>\n",
              "      <th>1</th>\n",
              "      <td>2405.75</td>\n",
              "      <td>82.550</td>\n",
              "      <td>154.65</td>\n",
              "      <td>172.100</td>\n",
              "    </tr>\n",
              "    <tr>\n",
              "      <th>2</th>\n",
              "      <td>4963.85</td>\n",
              "      <td>203.170</td>\n",
              "      <td>307.40</td>\n",
              "      <td>302.150</td>\n",
              "    </tr>\n",
              "    <tr>\n",
              "      <th>3</th>\n",
              "      <td>5219.70</td>\n",
              "      <td>178.770</td>\n",
              "      <td>267.39</td>\n",
              "      <td>502.814</td>\n",
              "    </tr>\n",
              "    <tr>\n",
              "      <th>4</th>\n",
              "      <td>4873.15</td>\n",
              "      <td>241.138</td>\n",
              "      <td>204.65</td>\n",
              "      <td>537.856</td>\n",
              "    </tr>\n",
              "    <tr>\n",
              "      <th>5</th>\n",
              "      <td>5278.40</td>\n",
              "      <td>243.440</td>\n",
              "      <td>314.68</td>\n",
              "      <td>367.416</td>\n",
              "    </tr>\n",
              "    <tr>\n",
              "      <th>6</th>\n",
              "      <td>4451.70</td>\n",
              "      <td>190.530</td>\n",
              "      <td>188.35</td>\n",
              "      <td>497.450</td>\n",
              "    </tr>\n",
              "    <tr>\n",
              "      <th>7</th>\n",
              "      <td>4806.60</td>\n",
              "      <td>205.838</td>\n",
              "      <td>265.83</td>\n",
              "      <td>386.586</td>\n",
              "    </tr>\n",
              "    <tr>\n",
              "      <th>8</th>\n",
              "      <td>5738.75</td>\n",
              "      <td>264.930</td>\n",
              "      <td>195.39</td>\n",
              "      <td>720.130</td>\n",
              "    </tr>\n",
              "    <tr>\n",
              "      <th>9</th>\n",
              "      <td>1766.40</td>\n",
              "      <td>66.840</td>\n",
              "      <td>90.64</td>\n",
              "      <td>171.200</td>\n",
              "    </tr>\n",
              "  </tbody>\n",
              "</table>\n",
              "</div>"
            ],
            "text/plain": [
              "         ККал        Б       Ж        У\n",
              "День                                   \n",
              "1     2405.75   82.550  154.65  172.100\n",
              "2     4963.85  203.170  307.40  302.150\n",
              "3     5219.70  178.770  267.39  502.814\n",
              "4     4873.15  241.138  204.65  537.856\n",
              "5     5278.40  243.440  314.68  367.416\n",
              "6     4451.70  190.530  188.35  497.450\n",
              "7     4806.60  205.838  265.83  386.586\n",
              "8     5738.75  264.930  195.39  720.130\n",
              "9     1766.40   66.840   90.64  171.200"
            ]
          },
          "metadata": {
            "tags": []
          },
          "execution_count": 9
        }
      ]
    },
    {
      "cell_type": "code",
      "metadata": {
        "id": "MFr4fSUbQ5Z3",
        "colab_type": "code",
        "colab": {
          "base_uri": "https://localhost:8080/",
          "height": 204
        },
        "outputId": "5c238b20-fea8-419a-eddc-75ad2699d6d2"
      },
      "source": [
        "zip_url = 'https://stepik.org/media/attachments/lesson/245299/rogaikopyta.zip'\n",
        "!wget $zip_url"
      ],
      "execution_count": 14,
      "outputs": [
        {
          "output_type": "stream",
          "text": [
            "--2020-04-19 16:30:20--  https://stepik.org/media/attachments/lesson/245299/rogaikopyta.zip\n",
            "Resolving stepik.org (stepik.org)... 13.69.75.239\n",
            "Connecting to stepik.org (stepik.org)|13.69.75.239|:443... connected.\n",
            "HTTP request sent, awaiting response... 200 OK\n",
            "Length: 4351170 (4.1M) [application/zip]\n",
            "Saving to: ‘rogaikopyta.zip’\n",
            "\n",
            "rogaikopyta.zip     100%[===================>]   4.15M  2.56MB/s    in 1.6s    \n",
            "\n",
            "2020-04-19 16:30:23 (2.56 MB/s) - ‘rogaikopyta.zip’ saved [4351170/4351170]\n",
            "\n"
          ],
          "name": "stdout"
        }
      ]
    },
    {
      "cell_type": "code",
      "metadata": {
        "id": "b0xaud9iRdYl",
        "colab_type": "code",
        "colab": {}
      },
      "source": [
        "zip_filename = 'rogaikopyta.zip'"
      ],
      "execution_count": 0,
      "outputs": []
    },
    {
      "cell_type": "code",
      "metadata": {
        "id": "ayLJg56ABYe_",
        "colab_type": "code",
        "colab": {}
      },
      "source": [
        "from zipfile import ZipFile\n",
        "import xlrd \n",
        "import io\n",
        "\n",
        "employers = []\n",
        "\n",
        "with ZipFile(zip_filename) as zip_file:\n",
        "  for filename in zip_file.namelist():\n",
        "    content = zip_file.read(filename)\n",
        "    wb = xlrd.open_workbook(file_contents=content)\n",
        "    sheet = wb.sheet_by_index(0)\n",
        "    name = sheet.cell_value(1, 1)\n",
        "    salary = int(sheet.cell_value(1, 3))    \n",
        "    employers.append([name, salary])\n",
        "\n",
        "\n",
        "employers_df = pd.DataFrame(employers, columns=['Name', 'Salary'])"
      ],
      "execution_count": 0,
      "outputs": []
    },
    {
      "cell_type": "code",
      "metadata": {
        "id": "UkZDS5DXZeS5",
        "colab_type": "code",
        "colab": {
          "base_uri": "https://localhost:8080/",
          "height": 204
        },
        "outputId": "6596ca2e-645d-467f-e0a0-3d53a0dee6d3"
      },
      "source": [
        "employers_df.head(5)"
      ],
      "execution_count": 27,
      "outputs": [
        {
          "output_type": "execute_result",
          "data": {
            "text/html": [
              "<div>\n",
              "<style scoped>\n",
              "    .dataframe tbody tr th:only-of-type {\n",
              "        vertical-align: middle;\n",
              "    }\n",
              "\n",
              "    .dataframe tbody tr th {\n",
              "        vertical-align: top;\n",
              "    }\n",
              "\n",
              "    .dataframe thead th {\n",
              "        text-align: right;\n",
              "    }\n",
              "</style>\n",
              "<table border=\"1\" class=\"dataframe\">\n",
              "  <thead>\n",
              "    <tr style=\"text-align: right;\">\n",
              "      <th></th>\n",
              "      <th>Name</th>\n",
              "      <th>Salary</th>\n",
              "    </tr>\n",
              "  </thead>\n",
              "  <tbody>\n",
              "    <tr>\n",
              "      <th>0</th>\n",
              "      <td>Сидоров Михаил Александрович</td>\n",
              "      <td>49259</td>\n",
              "    </tr>\n",
              "    <tr>\n",
              "      <th>1</th>\n",
              "      <td>Дмитриев Александр Васильевич</td>\n",
              "      <td>160242</td>\n",
              "    </tr>\n",
              "    <tr>\n",
              "      <th>2</th>\n",
              "      <td>Васильев Алексей Михайлович</td>\n",
              "      <td>153668</td>\n",
              "    </tr>\n",
              "    <tr>\n",
              "      <th>3</th>\n",
              "      <td>Сергеев Михаил Львович</td>\n",
              "      <td>198693</td>\n",
              "    </tr>\n",
              "    <tr>\n",
              "      <th>4</th>\n",
              "      <td>Дмитриев Сидор Львович</td>\n",
              "      <td>11623</td>\n",
              "    </tr>\n",
              "  </tbody>\n",
              "</table>\n",
              "</div>"
            ],
            "text/plain": [
              "                            Name  Salary\n",
              "0   Сидоров Михаил Александрович   49259\n",
              "1  Дмитриев Александр Васильевич  160242\n",
              "2    Васильев Алексей Михайлович  153668\n",
              "3         Сергеев Михаил Львович  198693\n",
              "4         Дмитриев Сидор Львович   11623"
            ]
          },
          "metadata": {
            "tags": []
          },
          "execution_count": 27
        }
      ]
    },
    {
      "cell_type": "code",
      "metadata": {
        "id": "FqnQTGkyZiF5",
        "colab_type": "code",
        "colab": {
          "base_uri": "https://localhost:8080/",
          "height": 419
        },
        "outputId": "dccb7dbc-41cf-44db-9b75-b5ffe11d63d6"
      },
      "source": [
        "employers_df.sort_values(by='Name')"
      ],
      "execution_count": 28,
      "outputs": [
        {
          "output_type": "execute_result",
          "data": {
            "text/html": [
              "<div>\n",
              "<style scoped>\n",
              "    .dataframe tbody tr th:only-of-type {\n",
              "        vertical-align: middle;\n",
              "    }\n",
              "\n",
              "    .dataframe tbody tr th {\n",
              "        vertical-align: top;\n",
              "    }\n",
              "\n",
              "    .dataframe thead th {\n",
              "        text-align: right;\n",
              "    }\n",
              "</style>\n",
              "<table border=\"1\" class=\"dataframe\">\n",
              "  <thead>\n",
              "    <tr style=\"text-align: right;\">\n",
              "      <th></th>\n",
              "      <th>Name</th>\n",
              "      <th>Salary</th>\n",
              "    </tr>\n",
              "  </thead>\n",
              "  <tbody>\n",
              "    <tr>\n",
              "      <th>301</th>\n",
              "      <td>Александров Александр Александрович</td>\n",
              "      <td>19279</td>\n",
              "    </tr>\n",
              "    <tr>\n",
              "      <th>295</th>\n",
              "      <td>Александров Александр Алексеевич</td>\n",
              "      <td>111877</td>\n",
              "    </tr>\n",
              "    <tr>\n",
              "      <th>285</th>\n",
              "      <td>Александров Александр Васильевич</td>\n",
              "      <td>121425</td>\n",
              "    </tr>\n",
              "    <tr>\n",
              "      <th>308</th>\n",
              "      <td>Александров Александр Дмитриевич</td>\n",
              "      <td>47073</td>\n",
              "    </tr>\n",
              "    <tr>\n",
              "      <th>931</th>\n",
              "      <td>Александров Александр Иванович</td>\n",
              "      <td>98888</td>\n",
              "    </tr>\n",
              "    <tr>\n",
              "      <th>...</th>\n",
              "      <td>...</td>\n",
              "      <td>...</td>\n",
              "    </tr>\n",
              "    <tr>\n",
              "      <th>604</th>\n",
              "      <td>Сидоров Сидор Львович</td>\n",
              "      <td>93196</td>\n",
              "    </tr>\n",
              "    <tr>\n",
              "      <th>826</th>\n",
              "      <td>Сидоров Сидор Михайлович</td>\n",
              "      <td>153252</td>\n",
              "    </tr>\n",
              "    <tr>\n",
              "      <th>49</th>\n",
              "      <td>Сидоров Сидор Петрович</td>\n",
              "      <td>46026</td>\n",
              "    </tr>\n",
              "    <tr>\n",
              "      <th>337</th>\n",
              "      <td>Сидоров Сидор Сергеевич</td>\n",
              "      <td>108788</td>\n",
              "    </tr>\n",
              "    <tr>\n",
              "      <th>699</th>\n",
              "      <td>Сидоров Сидор Сидорович</td>\n",
              "      <td>130081</td>\n",
              "    </tr>\n",
              "  </tbody>\n",
              "</table>\n",
              "<p>1000 rows × 2 columns</p>\n",
              "</div>"
            ],
            "text/plain": [
              "                                    Name  Salary\n",
              "301  Александров Александр Александрович   19279\n",
              "295     Александров Александр Алексеевич  111877\n",
              "285     Александров Александр Васильевич  121425\n",
              "308     Александров Александр Дмитриевич   47073\n",
              "931       Александров Александр Иванович   98888\n",
              "..                                   ...     ...\n",
              "604                Сидоров Сидор Львович   93196\n",
              "826             Сидоров Сидор Михайлович  153252\n",
              "49                Сидоров Сидор Петрович   46026\n",
              "337              Сидоров Сидор Сергеевич  108788\n",
              "699              Сидоров Сидор Сидорович  130081\n",
              "\n",
              "[1000 rows x 2 columns]"
            ]
          },
          "metadata": {
            "tags": []
          },
          "execution_count": 28
        }
      ]
    }
  ]
}