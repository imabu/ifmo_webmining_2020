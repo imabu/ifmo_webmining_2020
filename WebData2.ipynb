{
  "nbformat": 4,
  "nbformat_minor": 0,
  "metadata": {
    "colab": {
      "name": "WebData2.ipynb",
      "provenance": [],
      "collapsed_sections": [],
      "authorship_tag": "ABX9TyO6lVLklRr/QfYblgmSWq8J",
      "include_colab_link": true
    },
    "kernelspec": {
      "name": "python3",
      "display_name": "Python 3"
    }
  },
  "cells": [
    {
      "cell_type": "markdown",
      "metadata": {
        "id": "view-in-github",
        "colab_type": "text"
      },
      "source": [
        "<a href=\"https://colab.research.google.com/github/imabu/ifmo_webmining_2020/blob/master/WebData2.ipynb\" target=\"_parent\"><img src=\"https://colab.research.google.com/assets/colab-badge.svg\" alt=\"Open In Colab\"/></a>"
      ]
    },
    {
      "cell_type": "code",
      "metadata": {
        "id": "XcaYmHt-e7ud",
        "colab_type": "code",
        "colab": {}
      },
      "source": [
        "import pandas as pd"
      ],
      "execution_count": 0,
      "outputs": []
    },
    {
      "cell_type": "markdown",
      "metadata": {
        "id": "fVVhI_cRh5T0",
        "colab_type": "text"
      },
      "source": [
        "Вася хочет минимизировать вес продуктов и для этого брать самые калорийные продукты. **Помогите ему и упорядочите продукты по убыванию калорийности. В случае, если продукты имеют одинаковую калорийность - упорядочите их по названию**. В качестве ответа необходимо сдать названия продуктов, по одному в строке."
      ]
    },
    {
      "cell_type": "code",
      "metadata": {
        "id": "VgYUK53KfQyj",
        "colab_type": "code",
        "colab": {}
      },
      "source": [
        "df = pd.read_excel('https://stepik.org/media/attachments/lesson/245290/trekking1.xlsx', sheet_name='Справочник', index_col=False)\n",
        "df.head(5)\n",
        "df = df.rename(columns={'Unnamed: 0': 'Название'})"
      ],
      "execution_count": 0,
      "outputs": []
    },
    {
      "cell_type": "code",
      "metadata": {
        "id": "C_iw7jJ-guJV",
        "colab_type": "code",
        "colab": {
          "base_uri": "https://localhost:8080/",
          "height": 204
        },
        "outputId": "1d704be0-97b8-4bc4-e4c9-0872ff61b77b"
      },
      "source": [
        "# замена NaN на 0\n",
        "df= df.fillna(0)\n",
        "df.head(5)"
      ],
      "execution_count": 16,
      "outputs": [
        {
          "output_type": "execute_result",
          "data": {
            "text/html": [
              "<div>\n",
              "<style scoped>\n",
              "    .dataframe tbody tr th:only-of-type {\n",
              "        vertical-align: middle;\n",
              "    }\n",
              "\n",
              "    .dataframe tbody tr th {\n",
              "        vertical-align: top;\n",
              "    }\n",
              "\n",
              "    .dataframe thead th {\n",
              "        text-align: right;\n",
              "    }\n",
              "</style>\n",
              "<table border=\"1\" class=\"dataframe\">\n",
              "  <thead>\n",
              "    <tr style=\"text-align: right;\">\n",
              "      <th></th>\n",
              "      <th>Название</th>\n",
              "      <th>ККал на 100</th>\n",
              "      <th>Б на 100</th>\n",
              "      <th>Ж на 100</th>\n",
              "      <th>У на 100</th>\n",
              "    </tr>\n",
              "  </thead>\n",
              "  <tbody>\n",
              "    <tr>\n",
              "      <th>0</th>\n",
              "      <td>Сухофрукты</td>\n",
              "      <td>548.0</td>\n",
              "      <td>12.8</td>\n",
              "      <td>40.8</td>\n",
              "      <td>32.4</td>\n",
              "    </tr>\n",
              "    <tr>\n",
              "      <th>1</th>\n",
              "      <td>Каша Быстров</td>\n",
              "      <td>334.0</td>\n",
              "      <td>8.6</td>\n",
              "      <td>4.8</td>\n",
              "      <td>64.0</td>\n",
              "    </tr>\n",
              "    <tr>\n",
              "      <th>2</th>\n",
              "      <td>Балык \"Королевский\"</td>\n",
              "      <td>170.0</td>\n",
              "      <td>25.0</td>\n",
              "      <td>8.0</td>\n",
              "      <td>0.0</td>\n",
              "    </tr>\n",
              "    <tr>\n",
              "      <th>3</th>\n",
              "      <td>Колбаса с/к \"Еврейская полусухая\"</td>\n",
              "      <td>481.0</td>\n",
              "      <td>19.0</td>\n",
              "      <td>45.0</td>\n",
              "      <td>0.0</td>\n",
              "    </tr>\n",
              "    <tr>\n",
              "      <th>4</th>\n",
              "      <td>Суп гороховый с копченостями</td>\n",
              "      <td>390.0</td>\n",
              "      <td>16.0</td>\n",
              "      <td>11.0</td>\n",
              "      <td>52.0</td>\n",
              "    </tr>\n",
              "  </tbody>\n",
              "</table>\n",
              "</div>"
            ],
            "text/plain": [
              "                            Название  ККал на 100  Б на 100  Ж на 100  У на 100\n",
              "0                         Сухофрукты        548.0      12.8      40.8      32.4\n",
              "1                       Каша Быстров        334.0       8.6       4.8      64.0\n",
              "2                Балык \"Королевский\"        170.0      25.0       8.0       0.0\n",
              "3  Колбаса с/к \"Еврейская полусухая\"        481.0      19.0      45.0       0.0\n",
              "4       Суп гороховый с копченостями        390.0      16.0      11.0      52.0"
            ]
          },
          "metadata": {
            "tags": []
          },
          "execution_count": 16
        }
      ]
    },
    {
      "cell_type": "code",
      "metadata": {
        "id": "6TZbyWgrh14W",
        "colab_type": "code",
        "colab": {
          "base_uri": "https://localhost:8080/",
          "height": 663
        },
        "outputId": "6159016c-c8b1-4064-f2a8-81835803e829"
      },
      "source": [
        "df.sort_values(['ККал на 100', 'Название'], ascending=(False, True))['Название']"
      ],
      "execution_count": 18,
      "outputs": [
        {
          "output_type": "execute_result",
          "data": {
            "text/plain": [
              "14                   Шоколад молочный какао\n",
              "15                 Шоколад молочный миндаль\n",
              "0                                Сухофрукты\n",
              "35            Омлет с копченостями галагала\n",
              "26                   Свинина сублимрованная\n",
              "16                      Шоколад ремесленный\n",
              "13                     Козинак подсолнечный\n",
              "34                 Омлет с грибами галагала\n",
              "12                       Козинак арахисовый\n",
              "21                 Хлебцы льняные \"Тайские\"\n",
              "3         Колбаса с/к \"Еврейская полусухая\"\n",
              "25                  Говядина сублимрованная\n",
              "20              Сухарики ржаные с семечками\n",
              "22                   Хлебцы льняные Морские\n",
              "30        Суп говяжий с картофелем галагала\n",
              "4              Суп гороховый с копченостями\n",
              "31    Суп гороховый с копченостями галагала\n",
              "29        Суп куриный с картофелем галагала\n",
              "28                       Суп-гуляш галагала\n",
              "32                       Суп-харчо \"Острый\"\n",
              "17                              Сыр Маасдам\n",
              "19                               Сыр Чеддер\n",
              "27                 Борщ Московский Галагала\n",
              "9                           Крупа гречневая\n",
              "8                    Рис пропаренный Увелка\n",
              "7                          Свинина Кронидов\n",
              "11               Сухарики ржаные Finn Crisp\n",
              "10                          Капеллини Макфа\n",
              "18                                Сыр Гауда\n",
              "36                                  Кус Кус\n",
              "1                              Каша Быстров\n",
              "33                        Картофель сушеный\n",
              "6                         Говядина Кронидов\n",
              "24                Хлебцы с чесноком и луком\n",
              "5                      Суп томатный с рисом\n",
              "2                       Балык \"Королевский\"\n",
              "23                                  Паутина\n",
              "Name: Название, dtype: object"
            ]
          },
          "metadata": {
            "tags": []
          },
          "execution_count": 18
        }
      ]
    },
    {
      "cell_type": "markdown",
      "metadata": {
        "id": "iTNpsZuXlAER",
        "colab_type": "text"
      },
      "source": [
        "Вася составил раскладку по продуктам на один день (она на листе \"Раскладка\") с указанием названия продукта и его количества в граммах. **Посчитайте 4 числа: суммарную калорийность и граммы белков, жиров и углеводов. Числа округлите до целых вниз и введите через пробел**"
      ]
    },
    {
      "cell_type": "code",
      "metadata": {
        "id": "e1J-ub-Jl4T5",
        "colab_type": "code",
        "colab": {
          "base_uri": "https://localhost:8080/",
          "height": 204
        },
        "outputId": "558aeea3-41c7-4eef-827b-383f710375c4"
      },
      "source": [
        "ref = pd.read_excel('https://stepik.org/media/attachments/lesson/245290/trekking2.xlsx', sheet_name='Справочник', index_col=False)\n",
        "ref = ref.rename(columns={'Unnamed: 0': 'Продукт'}).fillna(0)\n",
        "ref.head(5)"
      ],
      "execution_count": 28,
      "outputs": [
        {
          "output_type": "execute_result",
          "data": {
            "text/html": [
              "<div>\n",
              "<style scoped>\n",
              "    .dataframe tbody tr th:only-of-type {\n",
              "        vertical-align: middle;\n",
              "    }\n",
              "\n",
              "    .dataframe tbody tr th {\n",
              "        vertical-align: top;\n",
              "    }\n",
              "\n",
              "    .dataframe thead th {\n",
              "        text-align: right;\n",
              "    }\n",
              "</style>\n",
              "<table border=\"1\" class=\"dataframe\">\n",
              "  <thead>\n",
              "    <tr style=\"text-align: right;\">\n",
              "      <th></th>\n",
              "      <th>Продукт</th>\n",
              "      <th>ККал на 100</th>\n",
              "      <th>Б на 100</th>\n",
              "      <th>Ж на 100</th>\n",
              "      <th>У на 100</th>\n",
              "    </tr>\n",
              "  </thead>\n",
              "  <tbody>\n",
              "    <tr>\n",
              "      <th>0</th>\n",
              "      <td>Сухофрукты</td>\n",
              "      <td>548.0</td>\n",
              "      <td>12.8</td>\n",
              "      <td>40.8</td>\n",
              "      <td>32.4</td>\n",
              "    </tr>\n",
              "    <tr>\n",
              "      <th>1</th>\n",
              "      <td>Каша Быстров</td>\n",
              "      <td>334.0</td>\n",
              "      <td>8.6</td>\n",
              "      <td>4.8</td>\n",
              "      <td>64.0</td>\n",
              "    </tr>\n",
              "    <tr>\n",
              "      <th>2</th>\n",
              "      <td>Балык \"Королевский\"</td>\n",
              "      <td>170.0</td>\n",
              "      <td>25.0</td>\n",
              "      <td>8.0</td>\n",
              "      <td>0.0</td>\n",
              "    </tr>\n",
              "    <tr>\n",
              "      <th>3</th>\n",
              "      <td>Колбаса с/к \"Еврейская полусухая\"</td>\n",
              "      <td>481.0</td>\n",
              "      <td>19.0</td>\n",
              "      <td>45.0</td>\n",
              "      <td>0.0</td>\n",
              "    </tr>\n",
              "    <tr>\n",
              "      <th>4</th>\n",
              "      <td>Суп гороховый с копченостями</td>\n",
              "      <td>390.0</td>\n",
              "      <td>16.0</td>\n",
              "      <td>11.0</td>\n",
              "      <td>52.0</td>\n",
              "    </tr>\n",
              "  </tbody>\n",
              "</table>\n",
              "</div>"
            ],
            "text/plain": [
              "                             Продукт  ККал на 100  Б на 100  Ж на 100  У на 100\n",
              "0                         Сухофрукты        548.0      12.8      40.8      32.4\n",
              "1                       Каша Быстров        334.0       8.6       4.8      64.0\n",
              "2                Балык \"Королевский\"        170.0      25.0       8.0       0.0\n",
              "3  Колбаса с/к \"Еврейская полусухая\"        481.0      19.0      45.0       0.0\n",
              "4       Суп гороховый с копченостями        390.0      16.0      11.0      52.0"
            ]
          },
          "metadata": {
            "tags": []
          },
          "execution_count": 28
        }
      ]
    },
    {
      "cell_type": "code",
      "metadata": {
        "id": "tdfLefbBk4Y4",
        "colab_type": "code",
        "colab": {
          "base_uri": "https://localhost:8080/",
          "height": 204
        },
        "outputId": "0254e9ef-1100-427f-93b4-ea352601c713"
      },
      "source": [
        "amount_of_products = pd.read_excel('https://stepik.org/media/attachments/lesson/245290/trekking2.xlsx', sheet_name='Раскладка', index_col=False)\n",
        "amount_of_products.head(5)"
      ],
      "execution_count": 23,
      "outputs": [
        {
          "output_type": "execute_result",
          "data": {
            "text/html": [
              "<div>\n",
              "<style scoped>\n",
              "    .dataframe tbody tr th:only-of-type {\n",
              "        vertical-align: middle;\n",
              "    }\n",
              "\n",
              "    .dataframe tbody tr th {\n",
              "        vertical-align: top;\n",
              "    }\n",
              "\n",
              "    .dataframe thead th {\n",
              "        text-align: right;\n",
              "    }\n",
              "</style>\n",
              "<table border=\"1\" class=\"dataframe\">\n",
              "  <thead>\n",
              "    <tr style=\"text-align: right;\">\n",
              "      <th></th>\n",
              "      <th>Продукт</th>\n",
              "      <th>Вес в граммах</th>\n",
              "    </tr>\n",
              "  </thead>\n",
              "  <tbody>\n",
              "    <tr>\n",
              "      <th>0</th>\n",
              "      <td>Омлет с грибами галагала</td>\n",
              "      <td>60</td>\n",
              "    </tr>\n",
              "    <tr>\n",
              "      <th>1</th>\n",
              "      <td>Сыр Маасдам</td>\n",
              "      <td>80</td>\n",
              "    </tr>\n",
              "    <tr>\n",
              "      <th>2</th>\n",
              "      <td>Хлебцы льняные Морские</td>\n",
              "      <td>55</td>\n",
              "    </tr>\n",
              "    <tr>\n",
              "      <th>3</th>\n",
              "      <td>Суп гороховый с копченостями</td>\n",
              "      <td>44</td>\n",
              "    </tr>\n",
              "    <tr>\n",
              "      <th>4</th>\n",
              "      <td>Хлебцы льняные Морские</td>\n",
              "      <td>55</td>\n",
              "    </tr>\n",
              "  </tbody>\n",
              "</table>\n",
              "</div>"
            ],
            "text/plain": [
              "                        Продукт  Вес в граммах\n",
              "0      Омлет с грибами галагала             60\n",
              "1                   Сыр Маасдам             80\n",
              "2        Хлебцы льняные Морские             55\n",
              "3  Суп гороховый с копченостями             44\n",
              "4        Хлебцы льняные Морские             55"
            ]
          },
          "metadata": {
            "tags": []
          },
          "execution_count": 23
        }
      ]
    },
    {
      "cell_type": "code",
      "metadata": {
        "id": "ttZ-ak-plV4L",
        "colab_type": "code",
        "colab": {}
      },
      "source": [
        "joined = ref.join(amount_of_products.set_index('Продукт'), how='inner', on='Продукт')"
      ],
      "execution_count": 0,
      "outputs": []
    },
    {
      "cell_type": "code",
      "metadata": {
        "id": "8PByTV5_qJQC",
        "colab_type": "code",
        "colab": {
          "base_uri": "https://localhost:8080/",
          "height": 34
        },
        "outputId": "c15ce36b-aba4-4663-9128-af0cbe3ea2fb"
      },
      "source": [
        "sum(joined['ККал на 100'] * joined['Вес в граммах'] / 100)"
      ],
      "execution_count": 34,
      "outputs": [
        {
          "output_type": "execute_result",
          "data": {
            "text/plain": [
              "4963.849999999999"
            ]
          },
          "metadata": {
            "tags": []
          },
          "execution_count": 34
        }
      ]
    },
    {
      "cell_type": "code",
      "metadata": {
        "id": "QFDX2l38qwpc",
        "colab_type": "code",
        "colab": {
          "base_uri": "https://localhost:8080/",
          "height": 34
        },
        "outputId": "5026669d-5e01-42bd-be45-3ec0f1ba0048"
      },
      "source": [
        "sum(joined['Б на 100'] * joined['Вес в граммах'] / 100)"
      ],
      "execution_count": 35,
      "outputs": [
        {
          "output_type": "execute_result",
          "data": {
            "text/plain": [
              "203.16999999999996"
            ]
          },
          "metadata": {
            "tags": []
          },
          "execution_count": 35
        }
      ]
    },
    {
      "cell_type": "code",
      "metadata": {
        "id": "jlL6PVZdqwvB",
        "colab_type": "code",
        "colab": {
          "base_uri": "https://localhost:8080/",
          "height": 34
        },
        "outputId": "95f0ad55-496a-495a-9ff6-a8a0c736f459"
      },
      "source": [
        "sum(joined['Ж на 100'] * joined['Вес в граммах'] / 100)"
      ],
      "execution_count": 36,
      "outputs": [
        {
          "output_type": "execute_result",
          "data": {
            "text/plain": [
              "307.4"
            ]
          },
          "metadata": {
            "tags": []
          },
          "execution_count": 36
        }
      ]
    },
    {
      "cell_type": "code",
      "metadata": {
        "id": "L7hHefIbqw3A",
        "colab_type": "code",
        "colab": {
          "base_uri": "https://localhost:8080/",
          "height": 34
        },
        "outputId": "3fbc8f09-ff87-4e10-89da-bd3aced5eed3"
      },
      "source": [
        "sum(joined['У на 100'] * joined['Вес в граммах'] / 100)"
      ],
      "execution_count": 37,
      "outputs": [
        {
          "output_type": "execute_result",
          "data": {
            "text/plain": [
              "302.15"
            ]
          },
          "metadata": {
            "tags": []
          },
          "execution_count": 37
        }
      ]
    },
    {
      "cell_type": "code",
      "metadata": {
        "id": "Wa1lcC5WqxAt",
        "colab_type": "code",
        "colab": {}
      },
      "source": [
        ""
      ],
      "execution_count": 0,
      "outputs": []
    }
  ]
}